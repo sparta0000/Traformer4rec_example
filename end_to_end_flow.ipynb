{
  "metadata": {
    "kernelspec": {
      "language": "python",
      "display_name": "Python 3",
      "name": "python3"
    },
    "language_info": {
      "name": "python",
      "version": "3.7.12",
      "mimetype": "text/x-python",
      "codemirror_mode": {
        "name": "ipython",
        "version": 3
      },
      "pygments_lexer": "ipython3",
      "nbconvert_exporter": "python",
      "file_extension": ".py"
    },
    "colab": {
      "provenance": []
    },
    "accelerator": "GPU",
    "gpuClass": "standard"
  },
  "nbformat_minor": 0,
  "nbformat": 4,
  "cells": [
    {
      "cell_type": "markdown",
      "source": [],
      "metadata": {
        "_uuid": "8f2839f25d086af736a60e9eeb907d3b93b6e0e5",
        "_cell_guid": "b1076dfc-b9ad-4769-8c92-a6c4dae69d19",
        "execution": {
          "iopub.status.busy": "2022-07-04T09:03:30.562337Z",
          "iopub.execute_input": "2022-07-04T09:03:30.562683Z",
          "iopub.status.idle": "2022-07-04T09:03:30.57752Z",
          "shell.execute_reply.started": "2022-07-04T09:03:30.562652Z",
          "shell.execute_reply": "2022-07-04T09:03:30.576387Z"
        },
        "id": "kFgnLSnVAdOz"
      }
    },
    {
      "cell_type": "code",
      "source": [
        "!pip install cudf-cu11==22.12 rmm-cu11==22.12 --extra-index-url=https://pypi.ngc.nvidia.com\n",
        "!pip install cugraph-cu11==22.12 dask-cuda==22.12 dask-cudf-cu11==22.12  pylibcugraph-cu11==22.12 --extra-index-url=https://pypi.ngc.nvidia.com/\n",
        "!pip install cuml-cu11==22.12 raft_dask_cu11==22.12 dask-cudf-cu11==22.12  pylibraft_cu11==22.12 ucx-py-cu11==0.29.0 --extra-index-url=https://pypi.ngc.nvidia.com"
      ],
      "metadata": {
        "execution": {
          "iopub.status.busy": "2023-03-15T06:14:15.501137Z",
          "iopub.execute_input": "2023-03-15T06:14:15.501603Z",
          "iopub.status.idle": "2023-03-15T06:16:47.427198Z",
          "shell.execute_reply.started": "2023-03-15T06:14:15.501501Z",
          "shell.execute_reply": "2023-03-15T06:16:47.425979Z"
        },
        "trusted": true,
        "id": "ZiL7pGe6AdO1"
      },
      "execution_count": null,
      "outputs": []
    },
    {
      "cell_type": "code",
      "source": [
        "# Install the Merlin Framework\n",
        "!pip install -U git+https://github.com/NVIDIA-Merlin/models.git@release-23.02\n",
        "!pip install -U git+https://github.com/NVIDIA-Merlin/nvtabular.git@release-23.02\n",
        "!pip install -U git+https://github.com/NVIDIA-Merlin/core.git@release-23.02\n",
        "!pip install -U git+https://github.com/NVIDIA-Merlin/system.git@release-23.02\n",
        "!pip install -U git+https://github.com/NVIDIA-Merlin/dataloader.git@release-23.02\n",
        "!pip install -U git+https://github.com/NVIDIA-Merlin/Transformers4Rec.git@release-23.02\n",
        "!pip install -U xgboost lightfm implicit"
      ],
      "metadata": {
        "id": "QcpUZYGrDl4k"
      },
      "execution_count": null,
      "outputs": []
    },
    {
      "cell_type": "code",
      "source": [
        "from google.colab import drive\n",
        "drive.mount('/content/drive')\n"
      ],
      "metadata": {
        "colab": {
          "base_uri": "https://localhost:8080/"
        },
        "id": "UptPAEB_DtL5",
        "outputId": "dbaa449f-02df-4044-ffcd-0f6c826b99c8"
      },
      "execution_count": 101,
      "outputs": [
        {
          "output_type": "stream",
          "name": "stdout",
          "text": [
            "Drive already mounted at /content/drive; to attempt to forcibly remount, call drive.mount(\"/content/drive\", force_remount=True).\n"
          ]
        }
      ]
    },
    {
      "cell_type": "code",
      "source": [
        "import os\n",
        "import numpy as np \n",
        "import gc\n",
        "import shutil\n",
        "import glob\n",
        "\n",
        "import cudf\n",
        "import nvtabular as nvt\n",
        "from merlin.dag import ColumnSelector\n",
        "from merlin.schema import Schema, Tags\n",
        "import pandas as pd "
      ],
      "metadata": {
        "execution": {
          "iopub.status.busy": "2023-03-15T06:26:03.837326Z",
          "iopub.execute_input": "2023-03-15T06:26:03.839130Z",
          "iopub.status.idle": "2023-03-15T06:26:03.936419Z",
          "shell.execute_reply.started": "2023-03-15T06:26:03.839055Z",
          "shell.execute_reply": "2023-03-15T06:26:03.933711Z"
        },
        "trusted": true,
        "id": "_SL0oA6-AdO2"
      },
      "execution_count": 102,
      "outputs": []
    },
    {
      "cell_type": "code",
      "source": [
        "INPUT_DATA_DIR = \"/content/drive/MyDrive/ds_data_v3/\""
      ],
      "metadata": {
        "execution": {
          "iopub.status.busy": "2022-07-21T06:21:48.857518Z",
          "iopub.execute_input": "2022-07-21T06:21:48.859152Z",
          "iopub.status.idle": "2022-07-21T06:21:48.871419Z",
          "shell.execute_reply.started": "2022-07-21T06:21:48.859122Z",
          "shell.execute_reply": "2022-07-21T06:21:48.867996Z"
        },
        "trusted": true,
        "id": "pTtuiDJpAdO3"
      },
      "execution_count": 103,
      "outputs": []
    },
    {
      "cell_type": "code",
      "source": [
        "raw_df = cudf.read_csv(os.path.join(INPUT_DATA_DIR, 'cds_2023_march_4days.csv')) \n",
        "raw_df.head()"
      ],
      "metadata": {
        "execution": {
          "iopub.status.busy": "2022-07-21T06:21:48.880827Z",
          "iopub.execute_input": "2022-07-21T06:21:48.881104Z",
          "iopub.status.idle": "2022-07-21T06:21:50.397231Z",
          "shell.execute_reply.started": "2022-07-21T06:21:48.88108Z",
          "shell.execute_reply": "2022-07-21T06:21:50.394952Z"
        },
        "trusted": true,
        "colab": {
          "base_uri": "https://localhost:8080/",
          "height": 400
        },
        "id": "VF272sakAdO3",
        "outputId": "eaefef0a-bb6d-4d4f-d98e-37758fb9b8e7"
      },
      "execution_count": 115,
      "outputs": [
        {
          "output_type": "execute_result",
          "data": {
            "text/plain": [
              "                       event_time event_type  \\\n",
              "0  2023-03-02 14:47:11.325028 UTC  view_item   \n",
              "1  2023-03-02 14:22:30.083014 UTC  view_item   \n",
              "2  2023-03-02 14:18:14.010002 UTC  view_item   \n",
              "3  2023-03-02 14:23:47.644015 UTC  view_item   \n",
              "4     2023-03-01 22:04:47.048 UTC  view_item   \n",
              "\n",
              "                            user_id  \\\n",
              "0  150FEA0F36CF46FA840956CAF974CC0B   \n",
              "1  38C7CC4F7EC94CEA83CAB02B89F720DB   \n",
              "2  38C7CC4F7EC94CEA83CAB02B89F720DB   \n",
              "3  38C7CC4F7EC94CEA83CAB02B89F720DB   \n",
              "4  AE731397442F48249A00B00D76DB9328   \n",
              "\n",
              "                                 user_session   product_id  quantity   price  \\\n",
              "0  150FEA0F36CF46FA840956CAF974CC0B1677768077  CDS88856872         1  1590.0   \n",
              "1  38C7CC4F7EC94CEA83CAB02B89F720DB1677765651   MKP0690480         1   629.0   \n",
              "2  38C7CC4F7EC94CEA83CAB02B89F720DB1677765651  CDS86195966         1   490.0   \n",
              "3  38C7CC4F7EC94CEA83CAB02B89F720DB1677765651   MKP0690480         1   629.0   \n",
              "4  AE731397442F48249A00B00D76DB93281677708277   MKP1233067         1   990.0   \n",
              "\n",
              "    brand category_id              category_code  \n",
              "0   APPLE        3987  mobile-tablet-accessories  \n",
              "1  XIAOMI        3200                      scale  \n",
              "2  SHAPER        3200                      scale  \n",
              "3  XIAOMI        3200                      scale  \n",
              "4   REMAX        3987  mobile-tablet-accessories  "
            ],
            "text/html": [
              "<div>\n",
              "<style scoped>\n",
              "    .dataframe tbody tr th:only-of-type {\n",
              "        vertical-align: middle;\n",
              "    }\n",
              "\n",
              "    .dataframe tbody tr th {\n",
              "        vertical-align: top;\n",
              "    }\n",
              "\n",
              "    .dataframe thead th {\n",
              "        text-align: right;\n",
              "    }\n",
              "</style>\n",
              "<table border=\"1\" class=\"dataframe\">\n",
              "  <thead>\n",
              "    <tr style=\"text-align: right;\">\n",
              "      <th></th>\n",
              "      <th>event_time</th>\n",
              "      <th>event_type</th>\n",
              "      <th>user_id</th>\n",
              "      <th>user_session</th>\n",
              "      <th>product_id</th>\n",
              "      <th>quantity</th>\n",
              "      <th>price</th>\n",
              "      <th>brand</th>\n",
              "      <th>category_id</th>\n",
              "      <th>category_code</th>\n",
              "    </tr>\n",
              "  </thead>\n",
              "  <tbody>\n",
              "    <tr>\n",
              "      <th>0</th>\n",
              "      <td>2023-03-02 14:47:11.325028 UTC</td>\n",
              "      <td>view_item</td>\n",
              "      <td>150FEA0F36CF46FA840956CAF974CC0B</td>\n",
              "      <td>150FEA0F36CF46FA840956CAF974CC0B1677768077</td>\n",
              "      <td>CDS88856872</td>\n",
              "      <td>1</td>\n",
              "      <td>1590.0</td>\n",
              "      <td>APPLE</td>\n",
              "      <td>3987</td>\n",
              "      <td>mobile-tablet-accessories</td>\n",
              "    </tr>\n",
              "    <tr>\n",
              "      <th>1</th>\n",
              "      <td>2023-03-02 14:22:30.083014 UTC</td>\n",
              "      <td>view_item</td>\n",
              "      <td>38C7CC4F7EC94CEA83CAB02B89F720DB</td>\n",
              "      <td>38C7CC4F7EC94CEA83CAB02B89F720DB1677765651</td>\n",
              "      <td>MKP0690480</td>\n",
              "      <td>1</td>\n",
              "      <td>629.0</td>\n",
              "      <td>XIAOMI</td>\n",
              "      <td>3200</td>\n",
              "      <td>scale</td>\n",
              "    </tr>\n",
              "    <tr>\n",
              "      <th>2</th>\n",
              "      <td>2023-03-02 14:18:14.010002 UTC</td>\n",
              "      <td>view_item</td>\n",
              "      <td>38C7CC4F7EC94CEA83CAB02B89F720DB</td>\n",
              "      <td>38C7CC4F7EC94CEA83CAB02B89F720DB1677765651</td>\n",
              "      <td>CDS86195966</td>\n",
              "      <td>1</td>\n",
              "      <td>490.0</td>\n",
              "      <td>SHAPER</td>\n",
              "      <td>3200</td>\n",
              "      <td>scale</td>\n",
              "    </tr>\n",
              "    <tr>\n",
              "      <th>3</th>\n",
              "      <td>2023-03-02 14:23:47.644015 UTC</td>\n",
              "      <td>view_item</td>\n",
              "      <td>38C7CC4F7EC94CEA83CAB02B89F720DB</td>\n",
              "      <td>38C7CC4F7EC94CEA83CAB02B89F720DB1677765651</td>\n",
              "      <td>MKP0690480</td>\n",
              "      <td>1</td>\n",
              "      <td>629.0</td>\n",
              "      <td>XIAOMI</td>\n",
              "      <td>3200</td>\n",
              "      <td>scale</td>\n",
              "    </tr>\n",
              "    <tr>\n",
              "      <th>4</th>\n",
              "      <td>2023-03-01 22:04:47.048 UTC</td>\n",
              "      <td>view_item</td>\n",
              "      <td>AE731397442F48249A00B00D76DB9328</td>\n",
              "      <td>AE731397442F48249A00B00D76DB93281677708277</td>\n",
              "      <td>MKP1233067</td>\n",
              "      <td>1</td>\n",
              "      <td>990.0</td>\n",
              "      <td>REMAX</td>\n",
              "      <td>3987</td>\n",
              "      <td>mobile-tablet-accessories</td>\n",
              "    </tr>\n",
              "  </tbody>\n",
              "</table>\n",
              "</div>"
            ]
          },
          "metadata": {},
          "execution_count": 115
        }
      ]
    },
    {
      "cell_type": "code",
      "source": [
        "raw_df.shape"
      ],
      "metadata": {
        "execution": {
          "iopub.status.busy": "2022-07-21T06:21:50.401546Z",
          "iopub.execute_input": "2022-07-21T06:21:50.401815Z",
          "iopub.status.idle": "2022-07-21T06:21:50.417556Z",
          "shell.execute_reply.started": "2022-07-21T06:21:50.40179Z",
          "shell.execute_reply": "2022-07-21T06:21:50.414116Z"
        },
        "trusted": true,
        "colab": {
          "base_uri": "https://localhost:8080/"
        },
        "id": "B7DoRVHmAdO3",
        "outputId": "d0a72a88-dadc-418a-f578-c7f8feb538f3"
      },
      "execution_count": 116,
      "outputs": [
        {
          "output_type": "execute_result",
          "data": {
            "text/plain": [
              "(1033765, 10)"
            ]
          },
          "metadata": {},
          "execution_count": 116
        }
      ]
    },
    {
      "cell_type": "code",
      "source": [
        "#raw_df = raw_df.loc[raw_df[\"event_type\"].isin([\"add_to_cart\",\"purchase\"])]\n",
        "#raw_df.shape"
      ],
      "metadata": {
        "execution": {
          "iopub.status.busy": "2022-07-21T06:21:50.420827Z",
          "iopub.execute_input": "2022-07-21T06:21:50.422399Z",
          "iopub.status.idle": "2022-07-21T06:21:50.543091Z",
          "shell.execute_reply.started": "2022-07-21T06:21:50.422373Z",
          "shell.execute_reply": "2022-07-21T06:21:50.541297Z"
        },
        "trusted": true,
        "colab": {
          "base_uri": "https://localhost:8080/"
        },
        "id": "En3yGq7XAdO3",
        "outputId": "f57304ea-2c01-423e-de73-340a3e7759f2"
      },
      "execution_count": 109,
      "outputs": [
        {
          "output_type": "execute_result",
          "data": {
            "text/plain": [
              "(48961, 10)"
            ]
          },
          "metadata": {},
          "execution_count": 109
        }
      ]
    },
    {
      "cell_type": "code",
      "source": [
        "raw_df.head()"
      ],
      "metadata": {
        "colab": {
          "base_uri": "https://localhost:8080/",
          "height": 400
        },
        "id": "0mZplFsZX_Rb",
        "outputId": "f0031228-3680-446c-feb0-8b7f0ad97076"
      },
      "execution_count": 117,
      "outputs": [
        {
          "output_type": "execute_result",
          "data": {
            "text/plain": [
              "                       event_time event_type  \\\n",
              "0  2023-03-02 14:47:11.325028 UTC  view_item   \n",
              "1  2023-03-02 14:22:30.083014 UTC  view_item   \n",
              "2  2023-03-02 14:18:14.010002 UTC  view_item   \n",
              "3  2023-03-02 14:23:47.644015 UTC  view_item   \n",
              "4     2023-03-01 22:04:47.048 UTC  view_item   \n",
              "\n",
              "                            user_id  \\\n",
              "0  150FEA0F36CF46FA840956CAF974CC0B   \n",
              "1  38C7CC4F7EC94CEA83CAB02B89F720DB   \n",
              "2  38C7CC4F7EC94CEA83CAB02B89F720DB   \n",
              "3  38C7CC4F7EC94CEA83CAB02B89F720DB   \n",
              "4  AE731397442F48249A00B00D76DB9328   \n",
              "\n",
              "                                 user_session   product_id  quantity   price  \\\n",
              "0  150FEA0F36CF46FA840956CAF974CC0B1677768077  CDS88856872         1  1590.0   \n",
              "1  38C7CC4F7EC94CEA83CAB02B89F720DB1677765651   MKP0690480         1   629.0   \n",
              "2  38C7CC4F7EC94CEA83CAB02B89F720DB1677765651  CDS86195966         1   490.0   \n",
              "3  38C7CC4F7EC94CEA83CAB02B89F720DB1677765651   MKP0690480         1   629.0   \n",
              "4  AE731397442F48249A00B00D76DB93281677708277   MKP1233067         1   990.0   \n",
              "\n",
              "    brand category_id              category_code  \n",
              "0   APPLE        3987  mobile-tablet-accessories  \n",
              "1  XIAOMI        3200                      scale  \n",
              "2  SHAPER        3200                      scale  \n",
              "3  XIAOMI        3200                      scale  \n",
              "4   REMAX        3987  mobile-tablet-accessories  "
            ],
            "text/html": [
              "<div>\n",
              "<style scoped>\n",
              "    .dataframe tbody tr th:only-of-type {\n",
              "        vertical-align: middle;\n",
              "    }\n",
              "\n",
              "    .dataframe tbody tr th {\n",
              "        vertical-align: top;\n",
              "    }\n",
              "\n",
              "    .dataframe thead th {\n",
              "        text-align: right;\n",
              "    }\n",
              "</style>\n",
              "<table border=\"1\" class=\"dataframe\">\n",
              "  <thead>\n",
              "    <tr style=\"text-align: right;\">\n",
              "      <th></th>\n",
              "      <th>event_time</th>\n",
              "      <th>event_type</th>\n",
              "      <th>user_id</th>\n",
              "      <th>user_session</th>\n",
              "      <th>product_id</th>\n",
              "      <th>quantity</th>\n",
              "      <th>price</th>\n",
              "      <th>brand</th>\n",
              "      <th>category_id</th>\n",
              "      <th>category_code</th>\n",
              "    </tr>\n",
              "  </thead>\n",
              "  <tbody>\n",
              "    <tr>\n",
              "      <th>0</th>\n",
              "      <td>2023-03-02 14:47:11.325028 UTC</td>\n",
              "      <td>view_item</td>\n",
              "      <td>150FEA0F36CF46FA840956CAF974CC0B</td>\n",
              "      <td>150FEA0F36CF46FA840956CAF974CC0B1677768077</td>\n",
              "      <td>CDS88856872</td>\n",
              "      <td>1</td>\n",
              "      <td>1590.0</td>\n",
              "      <td>APPLE</td>\n",
              "      <td>3987</td>\n",
              "      <td>mobile-tablet-accessories</td>\n",
              "    </tr>\n",
              "    <tr>\n",
              "      <th>1</th>\n",
              "      <td>2023-03-02 14:22:30.083014 UTC</td>\n",
              "      <td>view_item</td>\n",
              "      <td>38C7CC4F7EC94CEA83CAB02B89F720DB</td>\n",
              "      <td>38C7CC4F7EC94CEA83CAB02B89F720DB1677765651</td>\n",
              "      <td>MKP0690480</td>\n",
              "      <td>1</td>\n",
              "      <td>629.0</td>\n",
              "      <td>XIAOMI</td>\n",
              "      <td>3200</td>\n",
              "      <td>scale</td>\n",
              "    </tr>\n",
              "    <tr>\n",
              "      <th>2</th>\n",
              "      <td>2023-03-02 14:18:14.010002 UTC</td>\n",
              "      <td>view_item</td>\n",
              "      <td>38C7CC4F7EC94CEA83CAB02B89F720DB</td>\n",
              "      <td>38C7CC4F7EC94CEA83CAB02B89F720DB1677765651</td>\n",
              "      <td>CDS86195966</td>\n",
              "      <td>1</td>\n",
              "      <td>490.0</td>\n",
              "      <td>SHAPER</td>\n",
              "      <td>3200</td>\n",
              "      <td>scale</td>\n",
              "    </tr>\n",
              "    <tr>\n",
              "      <th>3</th>\n",
              "      <td>2023-03-02 14:23:47.644015 UTC</td>\n",
              "      <td>view_item</td>\n",
              "      <td>38C7CC4F7EC94CEA83CAB02B89F720DB</td>\n",
              "      <td>38C7CC4F7EC94CEA83CAB02B89F720DB1677765651</td>\n",
              "      <td>MKP0690480</td>\n",
              "      <td>1</td>\n",
              "      <td>629.0</td>\n",
              "      <td>XIAOMI</td>\n",
              "      <td>3200</td>\n",
              "      <td>scale</td>\n",
              "    </tr>\n",
              "    <tr>\n",
              "      <th>4</th>\n",
              "      <td>2023-03-01 22:04:47.048 UTC</td>\n",
              "      <td>view_item</td>\n",
              "      <td>AE731397442F48249A00B00D76DB9328</td>\n",
              "      <td>AE731397442F48249A00B00D76DB93281677708277</td>\n",
              "      <td>MKP1233067</td>\n",
              "      <td>1</td>\n",
              "      <td>990.0</td>\n",
              "      <td>REMAX</td>\n",
              "      <td>3987</td>\n",
              "      <td>mobile-tablet-accessories</td>\n",
              "    </tr>\n",
              "  </tbody>\n",
              "</table>\n",
              "</div>"
            ]
          },
          "metadata": {},
          "execution_count": 117
        }
      ]
    },
    {
      "cell_type": "code",
      "source": [
        "raw_df['event_time_dt'] = raw_df['event_time'].astype('datetime64[s]')\n",
        "raw_df['event_time_ts']= raw_df['event_time_dt'].astype('int')\n",
        "raw_df.head()"
      ],
      "metadata": {
        "execution": {
          "iopub.status.busy": "2022-07-21T06:21:50.54704Z",
          "iopub.execute_input": "2022-07-21T06:21:50.548057Z",
          "iopub.status.idle": "2022-07-21T06:21:50.642284Z",
          "shell.execute_reply.started": "2022-07-21T06:21:50.548028Z",
          "shell.execute_reply": "2022-07-21T06:21:50.640537Z"
        },
        "trusted": true,
        "colab": {
          "base_uri": "https://localhost:8080/",
          "height": 400
        },
        "id": "ehpdbKjUAdO4",
        "outputId": "28406327-dae1-4791-fb64-50e257bf8904"
      },
      "execution_count": 118,
      "outputs": [
        {
          "output_type": "execute_result",
          "data": {
            "text/plain": [
              "                       event_time event_type  \\\n",
              "0  2023-03-02 14:47:11.325028 UTC  view_item   \n",
              "1  2023-03-02 14:22:30.083014 UTC  view_item   \n",
              "2  2023-03-02 14:18:14.010002 UTC  view_item   \n",
              "3  2023-03-02 14:23:47.644015 UTC  view_item   \n",
              "4     2023-03-01 22:04:47.048 UTC  view_item   \n",
              "\n",
              "                            user_id  \\\n",
              "0  150FEA0F36CF46FA840956CAF974CC0B   \n",
              "1  38C7CC4F7EC94CEA83CAB02B89F720DB   \n",
              "2  38C7CC4F7EC94CEA83CAB02B89F720DB   \n",
              "3  38C7CC4F7EC94CEA83CAB02B89F720DB   \n",
              "4  AE731397442F48249A00B00D76DB9328   \n",
              "\n",
              "                                 user_session   product_id  quantity   price  \\\n",
              "0  150FEA0F36CF46FA840956CAF974CC0B1677768077  CDS88856872         1  1590.0   \n",
              "1  38C7CC4F7EC94CEA83CAB02B89F720DB1677765651   MKP0690480         1   629.0   \n",
              "2  38C7CC4F7EC94CEA83CAB02B89F720DB1677765651  CDS86195966         1   490.0   \n",
              "3  38C7CC4F7EC94CEA83CAB02B89F720DB1677765651   MKP0690480         1   629.0   \n",
              "4  AE731397442F48249A00B00D76DB93281677708277   MKP1233067         1   990.0   \n",
              "\n",
              "    brand category_id              category_code       event_time_dt  \\\n",
              "0   APPLE        3987  mobile-tablet-accessories 2023-03-02 14:47:11   \n",
              "1  XIAOMI        3200                      scale 2023-03-02 14:22:30   \n",
              "2  SHAPER        3200                      scale 2023-03-02 14:18:14   \n",
              "3  XIAOMI        3200                      scale 2023-03-02 14:23:47   \n",
              "4   REMAX        3987  mobile-tablet-accessories 2023-03-01 22:04:47   \n",
              "\n",
              "   event_time_ts  \n",
              "0     1677768431  \n",
              "1     1677766950  \n",
              "2     1677766694  \n",
              "3     1677767027  \n",
              "4     1677708287  "
            ],
            "text/html": [
              "<div>\n",
              "<style scoped>\n",
              "    .dataframe tbody tr th:only-of-type {\n",
              "        vertical-align: middle;\n",
              "    }\n",
              "\n",
              "    .dataframe tbody tr th {\n",
              "        vertical-align: top;\n",
              "    }\n",
              "\n",
              "    .dataframe thead th {\n",
              "        text-align: right;\n",
              "    }\n",
              "</style>\n",
              "<table border=\"1\" class=\"dataframe\">\n",
              "  <thead>\n",
              "    <tr style=\"text-align: right;\">\n",
              "      <th></th>\n",
              "      <th>event_time</th>\n",
              "      <th>event_type</th>\n",
              "      <th>user_id</th>\n",
              "      <th>user_session</th>\n",
              "      <th>product_id</th>\n",
              "      <th>quantity</th>\n",
              "      <th>price</th>\n",
              "      <th>brand</th>\n",
              "      <th>category_id</th>\n",
              "      <th>category_code</th>\n",
              "      <th>event_time_dt</th>\n",
              "      <th>event_time_ts</th>\n",
              "    </tr>\n",
              "  </thead>\n",
              "  <tbody>\n",
              "    <tr>\n",
              "      <th>0</th>\n",
              "      <td>2023-03-02 14:47:11.325028 UTC</td>\n",
              "      <td>view_item</td>\n",
              "      <td>150FEA0F36CF46FA840956CAF974CC0B</td>\n",
              "      <td>150FEA0F36CF46FA840956CAF974CC0B1677768077</td>\n",
              "      <td>CDS88856872</td>\n",
              "      <td>1</td>\n",
              "      <td>1590.0</td>\n",
              "      <td>APPLE</td>\n",
              "      <td>3987</td>\n",
              "      <td>mobile-tablet-accessories</td>\n",
              "      <td>2023-03-02 14:47:11</td>\n",
              "      <td>1677768431</td>\n",
              "    </tr>\n",
              "    <tr>\n",
              "      <th>1</th>\n",
              "      <td>2023-03-02 14:22:30.083014 UTC</td>\n",
              "      <td>view_item</td>\n",
              "      <td>38C7CC4F7EC94CEA83CAB02B89F720DB</td>\n",
              "      <td>38C7CC4F7EC94CEA83CAB02B89F720DB1677765651</td>\n",
              "      <td>MKP0690480</td>\n",
              "      <td>1</td>\n",
              "      <td>629.0</td>\n",
              "      <td>XIAOMI</td>\n",
              "      <td>3200</td>\n",
              "      <td>scale</td>\n",
              "      <td>2023-03-02 14:22:30</td>\n",
              "      <td>1677766950</td>\n",
              "    </tr>\n",
              "    <tr>\n",
              "      <th>2</th>\n",
              "      <td>2023-03-02 14:18:14.010002 UTC</td>\n",
              "      <td>view_item</td>\n",
              "      <td>38C7CC4F7EC94CEA83CAB02B89F720DB</td>\n",
              "      <td>38C7CC4F7EC94CEA83CAB02B89F720DB1677765651</td>\n",
              "      <td>CDS86195966</td>\n",
              "      <td>1</td>\n",
              "      <td>490.0</td>\n",
              "      <td>SHAPER</td>\n",
              "      <td>3200</td>\n",
              "      <td>scale</td>\n",
              "      <td>2023-03-02 14:18:14</td>\n",
              "      <td>1677766694</td>\n",
              "    </tr>\n",
              "    <tr>\n",
              "      <th>3</th>\n",
              "      <td>2023-03-02 14:23:47.644015 UTC</td>\n",
              "      <td>view_item</td>\n",
              "      <td>38C7CC4F7EC94CEA83CAB02B89F720DB</td>\n",
              "      <td>38C7CC4F7EC94CEA83CAB02B89F720DB1677765651</td>\n",
              "      <td>MKP0690480</td>\n",
              "      <td>1</td>\n",
              "      <td>629.0</td>\n",
              "      <td>XIAOMI</td>\n",
              "      <td>3200</td>\n",
              "      <td>scale</td>\n",
              "      <td>2023-03-02 14:23:47</td>\n",
              "      <td>1677767027</td>\n",
              "    </tr>\n",
              "    <tr>\n",
              "      <th>4</th>\n",
              "      <td>2023-03-01 22:04:47.048 UTC</td>\n",
              "      <td>view_item</td>\n",
              "      <td>AE731397442F48249A00B00D76DB9328</td>\n",
              "      <td>AE731397442F48249A00B00D76DB93281677708277</td>\n",
              "      <td>MKP1233067</td>\n",
              "      <td>1</td>\n",
              "      <td>990.0</td>\n",
              "      <td>REMAX</td>\n",
              "      <td>3987</td>\n",
              "      <td>mobile-tablet-accessories</td>\n",
              "      <td>2023-03-01 22:04:47</td>\n",
              "      <td>1677708287</td>\n",
              "    </tr>\n",
              "  </tbody>\n",
              "</table>\n",
              "</div>"
            ]
          },
          "metadata": {},
          "execution_count": 118
        }
      ]
    },
    {
      "cell_type": "code",
      "source": [
        "raw_df.isnull().any()"
      ],
      "metadata": {
        "execution": {
          "iopub.status.busy": "2022-07-21T06:21:50.649159Z",
          "iopub.execute_input": "2022-07-21T06:21:50.649405Z",
          "iopub.status.idle": "2022-07-21T06:21:50.684095Z",
          "shell.execute_reply.started": "2022-07-21T06:21:50.649382Z",
          "shell.execute_reply": "2022-07-21T06:21:50.681769Z"
        },
        "trusted": true,
        "colab": {
          "base_uri": "https://localhost:8080/"
        },
        "id": "Yf3zeAvkAdO4",
        "outputId": "0ad4b939-972b-488b-dc9f-2766aa603ad3"
      },
      "execution_count": 119,
      "outputs": [
        {
          "output_type": "execute_result",
          "data": {
            "text/plain": [
              "event_time       False\n",
              "event_type       False\n",
              "user_id          False\n",
              "user_session      True\n",
              "product_id       False\n",
              "quantity         False\n",
              "price            False\n",
              "brand             True\n",
              "category_id       True\n",
              "category_code     True\n",
              "event_time_dt    False\n",
              "event_time_ts    False\n",
              "dtype: bool"
            ]
          },
          "metadata": {},
          "execution_count": 119
        }
      ]
    },
    {
      "cell_type": "code",
      "source": [
        "raw_df = raw_df[raw_df['user_session'].isnull()==False]\n",
        "len(raw_df)"
      ],
      "metadata": {
        "execution": {
          "iopub.status.busy": "2022-07-21T06:21:50.691319Z",
          "iopub.execute_input": "2022-07-21T06:21:50.692521Z",
          "iopub.status.idle": "2022-07-21T06:21:50.726887Z",
          "shell.execute_reply.started": "2022-07-21T06:21:50.692476Z",
          "shell.execute_reply": "2022-07-21T06:21:50.72373Z"
        },
        "trusted": true,
        "colab": {
          "base_uri": "https://localhost:8080/"
        },
        "id": "eZ6CINqlAdO5",
        "outputId": "1a59948b-9e6a-4ef1-ccc9-ed2d2eed8532"
      },
      "execution_count": 121,
      "outputs": [
        {
          "output_type": "execute_result",
          "data": {
            "text/plain": [
              "1033738"
            ]
          },
          "metadata": {},
          "execution_count": 121
        }
      ]
    },
    {
      "cell_type": "code",
      "source": [
        "raw_df = raw_df.drop(['event_time'],  axis=1)"
      ],
      "metadata": {
        "execution": {
          "iopub.status.busy": "2022-07-21T06:21:50.741716Z",
          "iopub.execute_input": "2022-07-21T06:21:50.741964Z",
          "iopub.status.idle": "2022-07-21T06:21:50.769919Z",
          "shell.execute_reply.started": "2022-07-21T06:21:50.741941Z",
          "shell.execute_reply": "2022-07-21T06:21:50.767048Z"
        },
        "trusted": true,
        "id": "JLfgD66oAdO5"
      },
      "execution_count": 122,
      "outputs": []
    },
    {
      "cell_type": "code",
      "source": [
        "cols = list(raw_df.columns)\n",
        "cols.remove('user_session')\n",
        "cols"
      ],
      "metadata": {
        "execution": {
          "iopub.status.busy": "2022-07-21T06:21:50.775958Z",
          "iopub.execute_input": "2022-07-21T06:21:50.77623Z",
          "iopub.status.idle": "2022-07-21T06:21:50.793218Z",
          "shell.execute_reply.started": "2022-07-21T06:21:50.776207Z",
          "shell.execute_reply": "2022-07-21T06:21:50.791504Z"
        },
        "trusted": true,
        "colab": {
          "base_uri": "https://localhost:8080/"
        },
        "id": "rQNnH1FEAdO5",
        "outputId": "2dddb951-240a-444b-e8b5-e21ec7747c89"
      },
      "execution_count": 123,
      "outputs": [
        {
          "output_type": "execute_result",
          "data": {
            "text/plain": [
              "['event_type',\n",
              " 'user_id',\n",
              " 'product_id',\n",
              " 'quantity',\n",
              " 'price',\n",
              " 'brand',\n",
              " 'category_id',\n",
              " 'category_code',\n",
              " 'event_time_dt',\n",
              " 'event_time_ts']"
            ]
          },
          "metadata": {},
          "execution_count": 123
        }
      ]
    },
    {
      "cell_type": "code",
      "source": [
        "# load data \n",
        "df_event = nvt.Dataset(raw_df) \n",
        "\n",
        "# categorify user_session \n",
        "cat_feats = ['user_session'] >> nvt.ops.Categorify()\n",
        "\n",
        "workflow = nvt.Workflow(cols + cat_feats)\n",
        "workflow.fit(df_event)\n",
        "df = workflow.transform(df_event).to_ddf().compute()"
      ],
      "metadata": {
        "execution": {
          "iopub.status.busy": "2022-07-21T06:21:50.797609Z",
          "iopub.execute_input": "2022-07-21T06:21:50.797861Z",
          "iopub.status.idle": "2022-07-21T06:21:51.250716Z",
          "shell.execute_reply.started": "2022-07-21T06:21:50.797839Z",
          "shell.execute_reply": "2022-07-21T06:21:51.248321Z"
        },
        "trusted": true,
        "id": "mwSJ-dqQAdO5"
      },
      "execution_count": 124,
      "outputs": []
    },
    {
      "cell_type": "code",
      "source": [
        "df.head()"
      ],
      "metadata": {
        "execution": {
          "iopub.status.busy": "2022-07-21T06:21:51.25797Z",
          "iopub.execute_input": "2022-07-21T06:21:51.258262Z",
          "iopub.status.idle": "2022-07-21T06:21:51.344714Z",
          "shell.execute_reply.started": "2022-07-21T06:21:51.258236Z",
          "shell.execute_reply": "2022-07-21T06:21:51.342396Z"
        },
        "trusted": true,
        "colab": {
          "base_uri": "https://localhost:8080/",
          "height": 313
        },
        "id": "EXJkGM85AdO5",
        "outputId": "cc360ba6-b29a-47bb-e6cb-e98521b19fd4"
      },
      "execution_count": 125,
      "outputs": [
        {
          "output_type": "execute_result",
          "data": {
            "text/plain": [
              "   user_session event_type                           user_id   product_id  \\\n",
              "0        123604  view_item  150FEA0F36CF46FA840956CAF974CC0B  CDS88856872   \n",
              "1          3516  view_item  38C7CC4F7EC94CEA83CAB02B89F720DB   MKP0690480   \n",
              "2          3516  view_item  38C7CC4F7EC94CEA83CAB02B89F720DB  CDS86195966   \n",
              "3          3516  view_item  38C7CC4F7EC94CEA83CAB02B89F720DB   MKP0690480   \n",
              "4        156056  view_item  AE731397442F48249A00B00D76DB9328   MKP1233067   \n",
              "\n",
              "   quantity   price   brand category_id              category_code  \\\n",
              "0         1  1590.0   APPLE        3987  mobile-tablet-accessories   \n",
              "1         1   629.0  XIAOMI        3200                      scale   \n",
              "2         1   490.0  SHAPER        3200                      scale   \n",
              "3         1   629.0  XIAOMI        3200                      scale   \n",
              "4         1   990.0   REMAX        3987  mobile-tablet-accessories   \n",
              "\n",
              "        event_time_dt  event_time_ts  \n",
              "0 2023-03-02 14:47:11     1677768431  \n",
              "1 2023-03-02 14:22:30     1677766950  \n",
              "2 2023-03-02 14:18:14     1677766694  \n",
              "3 2023-03-02 14:23:47     1677767027  \n",
              "4 2023-03-01 22:04:47     1677708287  "
            ],
            "text/html": [
              "<div>\n",
              "<style scoped>\n",
              "    .dataframe tbody tr th:only-of-type {\n",
              "        vertical-align: middle;\n",
              "    }\n",
              "\n",
              "    .dataframe tbody tr th {\n",
              "        vertical-align: top;\n",
              "    }\n",
              "\n",
              "    .dataframe thead th {\n",
              "        text-align: right;\n",
              "    }\n",
              "</style>\n",
              "<table border=\"1\" class=\"dataframe\">\n",
              "  <thead>\n",
              "    <tr style=\"text-align: right;\">\n",
              "      <th></th>\n",
              "      <th>user_session</th>\n",
              "      <th>event_type</th>\n",
              "      <th>user_id</th>\n",
              "      <th>product_id</th>\n",
              "      <th>quantity</th>\n",
              "      <th>price</th>\n",
              "      <th>brand</th>\n",
              "      <th>category_id</th>\n",
              "      <th>category_code</th>\n",
              "      <th>event_time_dt</th>\n",
              "      <th>event_time_ts</th>\n",
              "    </tr>\n",
              "  </thead>\n",
              "  <tbody>\n",
              "    <tr>\n",
              "      <th>0</th>\n",
              "      <td>123604</td>\n",
              "      <td>view_item</td>\n",
              "      <td>150FEA0F36CF46FA840956CAF974CC0B</td>\n",
              "      <td>CDS88856872</td>\n",
              "      <td>1</td>\n",
              "      <td>1590.0</td>\n",
              "      <td>APPLE</td>\n",
              "      <td>3987</td>\n",
              "      <td>mobile-tablet-accessories</td>\n",
              "      <td>2023-03-02 14:47:11</td>\n",
              "      <td>1677768431</td>\n",
              "    </tr>\n",
              "    <tr>\n",
              "      <th>1</th>\n",
              "      <td>3516</td>\n",
              "      <td>view_item</td>\n",
              "      <td>38C7CC4F7EC94CEA83CAB02B89F720DB</td>\n",
              "      <td>MKP0690480</td>\n",
              "      <td>1</td>\n",
              "      <td>629.0</td>\n",
              "      <td>XIAOMI</td>\n",
              "      <td>3200</td>\n",
              "      <td>scale</td>\n",
              "      <td>2023-03-02 14:22:30</td>\n",
              "      <td>1677766950</td>\n",
              "    </tr>\n",
              "    <tr>\n",
              "      <th>2</th>\n",
              "      <td>3516</td>\n",
              "      <td>view_item</td>\n",
              "      <td>38C7CC4F7EC94CEA83CAB02B89F720DB</td>\n",
              "      <td>CDS86195966</td>\n",
              "      <td>1</td>\n",
              "      <td>490.0</td>\n",
              "      <td>SHAPER</td>\n",
              "      <td>3200</td>\n",
              "      <td>scale</td>\n",
              "      <td>2023-03-02 14:18:14</td>\n",
              "      <td>1677766694</td>\n",
              "    </tr>\n",
              "    <tr>\n",
              "      <th>3</th>\n",
              "      <td>3516</td>\n",
              "      <td>view_item</td>\n",
              "      <td>38C7CC4F7EC94CEA83CAB02B89F720DB</td>\n",
              "      <td>MKP0690480</td>\n",
              "      <td>1</td>\n",
              "      <td>629.0</td>\n",
              "      <td>XIAOMI</td>\n",
              "      <td>3200</td>\n",
              "      <td>scale</td>\n",
              "      <td>2023-03-02 14:23:47</td>\n",
              "      <td>1677767027</td>\n",
              "    </tr>\n",
              "    <tr>\n",
              "      <th>4</th>\n",
              "      <td>156056</td>\n",
              "      <td>view_item</td>\n",
              "      <td>AE731397442F48249A00B00D76DB9328</td>\n",
              "      <td>MKP1233067</td>\n",
              "      <td>1</td>\n",
              "      <td>990.0</td>\n",
              "      <td>REMAX</td>\n",
              "      <td>3987</td>\n",
              "      <td>mobile-tablet-accessories</td>\n",
              "      <td>2023-03-01 22:04:47</td>\n",
              "      <td>1677708287</td>\n",
              "    </tr>\n",
              "  </tbody>\n",
              "</table>\n",
              "</div>"
            ]
          },
          "metadata": {},
          "execution_count": 125
        }
      ]
    },
    {
      "cell_type": "code",
      "source": [
        "df.isnull().any()"
      ],
      "metadata": {
        "colab": {
          "base_uri": "https://localhost:8080/"
        },
        "id": "sxoKAzv5Lzih",
        "outputId": "dec56555-1abd-49c2-cc56-6cfb951d7f70"
      },
      "execution_count": 126,
      "outputs": [
        {
          "output_type": "execute_result",
          "data": {
            "text/plain": [
              "user_session     False\n",
              "event_type       False\n",
              "user_id          False\n",
              "product_id       False\n",
              "quantity         False\n",
              "price            False\n",
              "brand             True\n",
              "category_id       True\n",
              "category_code     True\n",
              "event_time_dt    False\n",
              "event_time_ts    False\n",
              "dtype: bool"
            ]
          },
          "metadata": {},
          "execution_count": 126
        }
      ]
    },
    {
      "cell_type": "code",
      "source": [
        "raw_df = None\n",
        "del(raw_df)\n",
        "gc.collect()"
      ],
      "metadata": {
        "execution": {
          "iopub.status.busy": "2022-07-21T06:21:51.350019Z",
          "iopub.execute_input": "2022-07-21T06:21:51.352327Z",
          "iopub.status.idle": "2022-07-21T06:21:51.808612Z",
          "shell.execute_reply.started": "2022-07-21T06:21:51.352296Z",
          "shell.execute_reply": "2022-07-21T06:21:51.806086Z"
        },
        "trusted": true,
        "colab": {
          "base_uri": "https://localhost:8080/"
        },
        "id": "28sfIx3MAdO6",
        "outputId": "1b956356-3e4a-4c71-8a6b-6aaf8fc58d04"
      },
      "execution_count": 127,
      "outputs": [
        {
          "output_type": "execute_result",
          "data": {
            "text/plain": [
              "1986"
            ]
          },
          "metadata": {},
          "execution_count": 127
        }
      ]
    },
    {
      "cell_type": "code",
      "source": [
        "%%time\n",
        "df = df.sort_values(['user_session', 'event_time_ts']).reset_index(drop=True)\n",
        "\n",
        "print(\"Count with in-session repeated interactions: {}\".format(len(df)))\n",
        "# Sorts the dataframe by session and timestamp, to remove consecutive repetitions\n",
        "df['product_id_past'] = df['product_id'].shift(1).fillna(0)\n",
        "df['session_id_past'] = df['user_session'].shift(1).fillna(0)\n",
        "#Keeping only no consecutive repeated in session interactions\n",
        "df = df[~((df['user_session'] == df['session_id_past']) & \\\n",
        "             (df['product_id'] == df['product_id_past']))]\n",
        "print(\"Count after removed in-session repeated interactions: {}\".format(len(df)))\n",
        "del(df['product_id_past'])\n",
        "del(df['session_id_past'])\n",
        "\n",
        "gc.collect()\n"
      ],
      "metadata": {
        "execution": {
          "iopub.status.busy": "2022-07-21T06:21:51.814368Z",
          "iopub.execute_input": "2022-07-21T06:21:51.814665Z",
          "iopub.status.idle": "2022-07-21T06:21:52.261038Z",
          "shell.execute_reply.started": "2022-07-21T06:21:51.81464Z",
          "shell.execute_reply": "2022-07-21T06:21:52.258824Z"
        },
        "trusted": true,
        "colab": {
          "base_uri": "https://localhost:8080/"
        },
        "id": "leBoN1VsAdO6",
        "outputId": "40d337e4-6da8-4f86-b769-7e32319da340"
      },
      "execution_count": 128,
      "outputs": [
        {
          "output_type": "stream",
          "name": "stdout",
          "text": [
            "Count with in-session repeated interactions: 1033738\n",
            "Count after removed in-session repeated interactions: 881641\n",
            "CPU times: user 342 ms, sys: 12.8 ms, total: 355 ms\n",
            "Wall time: 343 ms\n"
          ]
        },
        {
          "output_type": "execute_result",
          "data": {
            "text/plain": [
              "72"
            ]
          },
          "metadata": {},
          "execution_count": 128
        }
      ]
    },
    {
      "cell_type": "code",
      "source": [
        "item_first_interaction_df = df.groupby('product_id').agg({'event_time_ts': 'min'}) \\\n",
        "            .reset_index().rename(columns={'event_time_ts': 'prod_first_event_time_ts'})\n",
        "item_first_interaction_df.head()\n",
        "gc.collect()\n"
      ],
      "metadata": {
        "execution": {
          "iopub.status.busy": "2022-07-21T06:21:52.269567Z",
          "iopub.execute_input": "2022-07-21T06:21:52.269829Z",
          "iopub.status.idle": "2022-07-21T06:21:52.667267Z",
          "shell.execute_reply.started": "2022-07-21T06:21:52.269804Z",
          "shell.execute_reply": "2022-07-21T06:21:52.664994Z"
        },
        "trusted": true,
        "colab": {
          "base_uri": "https://localhost:8080/"
        },
        "id": "tVdj7-CsAdO6",
        "outputId": "2b3148f1-a9c4-430b-9b15-3d99bc81c360"
      },
      "execution_count": 129,
      "outputs": [
        {
          "output_type": "execute_result",
          "data": {
            "text/plain": [
              "17"
            ]
          },
          "metadata": {},
          "execution_count": 129
        }
      ]
    },
    {
      "cell_type": "code",
      "source": [
        "df = df.merge(item_first_interaction_df, on=['product_id'], how='left').reset_index(drop=True)\n",
        "df.head()\n",
        "del(item_first_interaction_df)\n",
        "item_first_interaction_df=None\n",
        "gc.collect()"
      ],
      "metadata": {
        "execution": {
          "iopub.status.busy": "2022-07-21T06:21:52.672569Z",
          "iopub.execute_input": "2022-07-21T06:21:52.672886Z",
          "iopub.status.idle": "2022-07-21T06:21:53.081152Z",
          "shell.execute_reply.started": "2022-07-21T06:21:52.672857Z",
          "shell.execute_reply": "2022-07-21T06:21:53.077756Z"
        },
        "trusted": true,
        "colab": {
          "base_uri": "https://localhost:8080/"
        },
        "id": "U4KG2HMtAdO6",
        "outputId": "4280f8c9-38b5-46dd-c3e5-847af3ca0262"
      },
      "execution_count": 130,
      "outputs": [
        {
          "output_type": "execute_result",
          "data": {
            "text/plain": [
              "0"
            ]
          },
          "metadata": {},
          "execution_count": 130
        }
      ]
    },
    {
      "cell_type": "code",
      "source": [
        "df['event_time_dt'].min()"
      ],
      "metadata": {
        "execution": {
          "iopub.status.busy": "2022-07-21T06:21:53.088762Z",
          "iopub.execute_input": "2022-07-21T06:21:53.089058Z",
          "iopub.status.idle": "2022-07-21T06:21:53.105204Z",
          "shell.execute_reply.started": "2022-07-21T06:21:53.08903Z",
          "shell.execute_reply": "2022-07-21T06:21:53.103277Z"
        },
        "trusted": true,
        "colab": {
          "base_uri": "https://localhost:8080/"
        },
        "id": "JVio3JAzAdO6",
        "outputId": "38d60038-8a36-4059-dc6f-960d521ad338"
      },
      "execution_count": 131,
      "outputs": [
        {
          "output_type": "execute_result",
          "data": {
            "text/plain": [
              "numpy.datetime64('2023-02-28T17:00:00')"
            ]
          },
          "metadata": {},
          "execution_count": 131
        }
      ]
    },
    {
      "cell_type": "code",
      "source": [
        "df = df[df['event_time_dt'] < np.datetime64('2023-03-11')].reset_index(drop=True)"
      ],
      "metadata": {
        "execution": {
          "iopub.status.busy": "2022-07-21T06:21:53.114278Z",
          "iopub.execute_input": "2022-07-21T06:21:53.114937Z",
          "iopub.status.idle": "2022-07-21T06:21:53.155053Z",
          "shell.execute_reply.started": "2022-07-21T06:21:53.114912Z",
          "shell.execute_reply": "2022-07-21T06:21:53.153083Z"
        },
        "trusted": true,
        "id": "Urh8Lxi2AdO6"
      },
      "execution_count": 132,
      "outputs": []
    },
    {
      "cell_type": "code",
      "source": [
        "df['event_time_dt'].max()"
      ],
      "metadata": {
        "execution": {
          "iopub.status.busy": "2022-07-21T06:21:53.162274Z",
          "iopub.execute_input": "2022-07-21T06:21:53.164548Z",
          "iopub.status.idle": "2022-07-21T06:21:53.180331Z",
          "shell.execute_reply.started": "2022-07-21T06:21:53.164522Z",
          "shell.execute_reply": "2022-07-21T06:21:53.178301Z"
        },
        "trusted": true,
        "colab": {
          "base_uri": "https://localhost:8080/"
        },
        "id": "NsVThzT7AdO7",
        "outputId": "6d4a4887-acf3-43b4-c56d-9670c144952a"
      },
      "execution_count": 133,
      "outputs": [
        {
          "output_type": "execute_result",
          "data": {
            "text/plain": [
              "numpy.datetime64('2023-03-04T16:59:59')"
            ]
          },
          "metadata": {},
          "execution_count": 133
        }
      ]
    },
    {
      "cell_type": "code",
      "source": [
        "df = df.drop(['event_time_dt'],  axis=1)"
      ],
      "metadata": {
        "execution": {
          "iopub.status.busy": "2022-07-21T06:21:53.188573Z",
          "iopub.execute_input": "2022-07-21T06:21:53.188839Z",
          "iopub.status.idle": "2022-07-21T06:21:53.209308Z",
          "shell.execute_reply.started": "2022-07-21T06:21:53.188817Z",
          "shell.execute_reply": "2022-07-21T06:21:53.207107Z"
        },
        "trusted": true,
        "id": "x91sh3iTAdO7"
      },
      "execution_count": 134,
      "outputs": []
    },
    {
      "cell_type": "code",
      "source": [
        "df.head()"
      ],
      "metadata": {
        "execution": {
          "iopub.status.busy": "2022-07-21T06:21:53.21443Z",
          "iopub.execute_input": "2022-07-21T06:21:53.215225Z",
          "iopub.status.idle": "2022-07-21T06:21:53.299466Z",
          "shell.execute_reply.started": "2022-07-21T06:21:53.215189Z",
          "shell.execute_reply": "2022-07-21T06:21:53.296263Z"
        },
        "trusted": true,
        "colab": {
          "base_uri": "https://localhost:8080/",
          "height": 434
        },
        "id": "zHG8qt-6AdO7",
        "outputId": "ee5a8ed8-35c6-4446-8406-f06e9495ddba"
      },
      "execution_count": 135,
      "outputs": [
        {
          "output_type": "execute_result",
          "data": {
            "text/plain": [
              "   user_session event_type                           user_id   product_id  \\\n",
              "0            48  view_item  20b8dc0111babc685ae38b73ef380241   MKP1298321   \n",
              "1            48  view_item  20b8dc0111babc685ae38b73ef380241   MKP1233034   \n",
              "2            48  view_item  20b8dc0111babc685ae38b73ef380241  CDS30190313   \n",
              "3            48  view_item  20b8dc0111babc685ae38b73ef380241  CDS30187092   \n",
              "4            48  view_item  20b8dc0111babc685ae38b73ef380241  CDS30190313   \n",
              "\n",
              "   quantity   price       brand category_id  \\\n",
              "0         1  1250.0     MAYFINE        3396   \n",
              "1         1  2500.0        ELLE        3396   \n",
              "2         1   942.0        ELLE        3925   \n",
              "3         1   877.0  ELLE PROMO        3925   \n",
              "4         1   942.0        ELLE        3925   \n",
              "\n",
              "                                       category_code  event_time_ts  \\\n",
              "0  mayfine-handbag-mf-10-1175-black-color-mkp1298321     1677764817   \n",
              "1                                               <NA>     1677764883   \n",
              "2  elle-travel-horizontal-crossover-tote-bag-larg...     1677764904   \n",
              "3  elle-travel-horizontal-crossover-tote-bag-smal...     1677764943   \n",
              "4  elle-travel-horizontal-crossover-tote-bag-larg...     1677764946   \n",
              "\n",
              "   prod_first_event_time_ts  \n",
              "0                1677647096  \n",
              "1                1677639205  \n",
              "2                1677676522  \n",
              "3                1677764943  \n",
              "4                1677676522  "
            ],
            "text/html": [
              "<div>\n",
              "<style scoped>\n",
              "    .dataframe tbody tr th:only-of-type {\n",
              "        vertical-align: middle;\n",
              "    }\n",
              "\n",
              "    .dataframe tbody tr th {\n",
              "        vertical-align: top;\n",
              "    }\n",
              "\n",
              "    .dataframe thead th {\n",
              "        text-align: right;\n",
              "    }\n",
              "</style>\n",
              "<table border=\"1\" class=\"dataframe\">\n",
              "  <thead>\n",
              "    <tr style=\"text-align: right;\">\n",
              "      <th></th>\n",
              "      <th>user_session</th>\n",
              "      <th>event_type</th>\n",
              "      <th>user_id</th>\n",
              "      <th>product_id</th>\n",
              "      <th>quantity</th>\n",
              "      <th>price</th>\n",
              "      <th>brand</th>\n",
              "      <th>category_id</th>\n",
              "      <th>category_code</th>\n",
              "      <th>event_time_ts</th>\n",
              "      <th>prod_first_event_time_ts</th>\n",
              "    </tr>\n",
              "  </thead>\n",
              "  <tbody>\n",
              "    <tr>\n",
              "      <th>0</th>\n",
              "      <td>48</td>\n",
              "      <td>view_item</td>\n",
              "      <td>20b8dc0111babc685ae38b73ef380241</td>\n",
              "      <td>MKP1298321</td>\n",
              "      <td>1</td>\n",
              "      <td>1250.0</td>\n",
              "      <td>MAYFINE</td>\n",
              "      <td>3396</td>\n",
              "      <td>mayfine-handbag-mf-10-1175-black-color-mkp1298321</td>\n",
              "      <td>1677764817</td>\n",
              "      <td>1677647096</td>\n",
              "    </tr>\n",
              "    <tr>\n",
              "      <th>1</th>\n",
              "      <td>48</td>\n",
              "      <td>view_item</td>\n",
              "      <td>20b8dc0111babc685ae38b73ef380241</td>\n",
              "      <td>MKP1233034</td>\n",
              "      <td>1</td>\n",
              "      <td>2500.0</td>\n",
              "      <td>ELLE</td>\n",
              "      <td>3396</td>\n",
              "      <td>&lt;NA&gt;</td>\n",
              "      <td>1677764883</td>\n",
              "      <td>1677639205</td>\n",
              "    </tr>\n",
              "    <tr>\n",
              "      <th>2</th>\n",
              "      <td>48</td>\n",
              "      <td>view_item</td>\n",
              "      <td>20b8dc0111babc685ae38b73ef380241</td>\n",
              "      <td>CDS30190313</td>\n",
              "      <td>1</td>\n",
              "      <td>942.0</td>\n",
              "      <td>ELLE</td>\n",
              "      <td>3925</td>\n",
              "      <td>elle-travel-horizontal-crossover-tote-bag-larg...</td>\n",
              "      <td>1677764904</td>\n",
              "      <td>1677676522</td>\n",
              "    </tr>\n",
              "    <tr>\n",
              "      <th>3</th>\n",
              "      <td>48</td>\n",
              "      <td>view_item</td>\n",
              "      <td>20b8dc0111babc685ae38b73ef380241</td>\n",
              "      <td>CDS30187092</td>\n",
              "      <td>1</td>\n",
              "      <td>877.0</td>\n",
              "      <td>ELLE PROMO</td>\n",
              "      <td>3925</td>\n",
              "      <td>elle-travel-horizontal-crossover-tote-bag-smal...</td>\n",
              "      <td>1677764943</td>\n",
              "      <td>1677764943</td>\n",
              "    </tr>\n",
              "    <tr>\n",
              "      <th>4</th>\n",
              "      <td>48</td>\n",
              "      <td>view_item</td>\n",
              "      <td>20b8dc0111babc685ae38b73ef380241</td>\n",
              "      <td>CDS30190313</td>\n",
              "      <td>1</td>\n",
              "      <td>942.0</td>\n",
              "      <td>ELLE</td>\n",
              "      <td>3925</td>\n",
              "      <td>elle-travel-horizontal-crossover-tote-bag-larg...</td>\n",
              "      <td>1677764946</td>\n",
              "      <td>1677676522</td>\n",
              "    </tr>\n",
              "  </tbody>\n",
              "</table>\n",
              "</div>"
            ]
          },
          "metadata": {},
          "execution_count": 135
        }
      ]
    },
    {
      "cell_type": "code",
      "source": [
        "df.to_parquet(os.path.join(\"./\", 'cds_2023_march_10days.parquet'))\n",
        "df.head()"
      ],
      "metadata": {
        "execution": {
          "iopub.status.busy": "2022-07-21T06:21:53.30634Z",
          "iopub.execute_input": "2022-07-21T06:21:53.306587Z",
          "iopub.status.idle": "2022-07-21T06:21:53.535709Z",
          "shell.execute_reply.started": "2022-07-21T06:21:53.306564Z",
          "shell.execute_reply": "2022-07-21T06:21:53.533717Z"
        },
        "trusted": true,
        "colab": {
          "base_uri": "https://localhost:8080/",
          "height": 434
        },
        "id": "rJY6PHicAdO7",
        "outputId": "dc9bfff5-7202-4795-ffa1-56cdddaead9d"
      },
      "execution_count": 136,
      "outputs": [
        {
          "output_type": "execute_result",
          "data": {
            "text/plain": [
              "   user_session event_type                           user_id   product_id  \\\n",
              "0            48  view_item  20b8dc0111babc685ae38b73ef380241   MKP1298321   \n",
              "1            48  view_item  20b8dc0111babc685ae38b73ef380241   MKP1233034   \n",
              "2            48  view_item  20b8dc0111babc685ae38b73ef380241  CDS30190313   \n",
              "3            48  view_item  20b8dc0111babc685ae38b73ef380241  CDS30187092   \n",
              "4            48  view_item  20b8dc0111babc685ae38b73ef380241  CDS30190313   \n",
              "\n",
              "   quantity   price       brand category_id  \\\n",
              "0         1  1250.0     MAYFINE        3396   \n",
              "1         1  2500.0        ELLE        3396   \n",
              "2         1   942.0        ELLE        3925   \n",
              "3         1   877.0  ELLE PROMO        3925   \n",
              "4         1   942.0        ELLE        3925   \n",
              "\n",
              "                                       category_code  event_time_ts  \\\n",
              "0  mayfine-handbag-mf-10-1175-black-color-mkp1298321     1677764817   \n",
              "1                                               <NA>     1677764883   \n",
              "2  elle-travel-horizontal-crossover-tote-bag-larg...     1677764904   \n",
              "3  elle-travel-horizontal-crossover-tote-bag-smal...     1677764943   \n",
              "4  elle-travel-horizontal-crossover-tote-bag-larg...     1677764946   \n",
              "\n",
              "   prod_first_event_time_ts  \n",
              "0                1677647096  \n",
              "1                1677639205  \n",
              "2                1677676522  \n",
              "3                1677764943  \n",
              "4                1677676522  "
            ],
            "text/html": [
              "<div>\n",
              "<style scoped>\n",
              "    .dataframe tbody tr th:only-of-type {\n",
              "        vertical-align: middle;\n",
              "    }\n",
              "\n",
              "    .dataframe tbody tr th {\n",
              "        vertical-align: top;\n",
              "    }\n",
              "\n",
              "    .dataframe thead th {\n",
              "        text-align: right;\n",
              "    }\n",
              "</style>\n",
              "<table border=\"1\" class=\"dataframe\">\n",
              "  <thead>\n",
              "    <tr style=\"text-align: right;\">\n",
              "      <th></th>\n",
              "      <th>user_session</th>\n",
              "      <th>event_type</th>\n",
              "      <th>user_id</th>\n",
              "      <th>product_id</th>\n",
              "      <th>quantity</th>\n",
              "      <th>price</th>\n",
              "      <th>brand</th>\n",
              "      <th>category_id</th>\n",
              "      <th>category_code</th>\n",
              "      <th>event_time_ts</th>\n",
              "      <th>prod_first_event_time_ts</th>\n",
              "    </tr>\n",
              "  </thead>\n",
              "  <tbody>\n",
              "    <tr>\n",
              "      <th>0</th>\n",
              "      <td>48</td>\n",
              "      <td>view_item</td>\n",
              "      <td>20b8dc0111babc685ae38b73ef380241</td>\n",
              "      <td>MKP1298321</td>\n",
              "      <td>1</td>\n",
              "      <td>1250.0</td>\n",
              "      <td>MAYFINE</td>\n",
              "      <td>3396</td>\n",
              "      <td>mayfine-handbag-mf-10-1175-black-color-mkp1298321</td>\n",
              "      <td>1677764817</td>\n",
              "      <td>1677647096</td>\n",
              "    </tr>\n",
              "    <tr>\n",
              "      <th>1</th>\n",
              "      <td>48</td>\n",
              "      <td>view_item</td>\n",
              "      <td>20b8dc0111babc685ae38b73ef380241</td>\n",
              "      <td>MKP1233034</td>\n",
              "      <td>1</td>\n",
              "      <td>2500.0</td>\n",
              "      <td>ELLE</td>\n",
              "      <td>3396</td>\n",
              "      <td>&lt;NA&gt;</td>\n",
              "      <td>1677764883</td>\n",
              "      <td>1677639205</td>\n",
              "    </tr>\n",
              "    <tr>\n",
              "      <th>2</th>\n",
              "      <td>48</td>\n",
              "      <td>view_item</td>\n",
              "      <td>20b8dc0111babc685ae38b73ef380241</td>\n",
              "      <td>CDS30190313</td>\n",
              "      <td>1</td>\n",
              "      <td>942.0</td>\n",
              "      <td>ELLE</td>\n",
              "      <td>3925</td>\n",
              "      <td>elle-travel-horizontal-crossover-tote-bag-larg...</td>\n",
              "      <td>1677764904</td>\n",
              "      <td>1677676522</td>\n",
              "    </tr>\n",
              "    <tr>\n",
              "      <th>3</th>\n",
              "      <td>48</td>\n",
              "      <td>view_item</td>\n",
              "      <td>20b8dc0111babc685ae38b73ef380241</td>\n",
              "      <td>CDS30187092</td>\n",
              "      <td>1</td>\n",
              "      <td>877.0</td>\n",
              "      <td>ELLE PROMO</td>\n",
              "      <td>3925</td>\n",
              "      <td>elle-travel-horizontal-crossover-tote-bag-smal...</td>\n",
              "      <td>1677764943</td>\n",
              "      <td>1677764943</td>\n",
              "    </tr>\n",
              "    <tr>\n",
              "      <th>4</th>\n",
              "      <td>48</td>\n",
              "      <td>view_item</td>\n",
              "      <td>20b8dc0111babc685ae38b73ef380241</td>\n",
              "      <td>CDS30190313</td>\n",
              "      <td>1</td>\n",
              "      <td>942.0</td>\n",
              "      <td>ELLE</td>\n",
              "      <td>3925</td>\n",
              "      <td>elle-travel-horizontal-crossover-tote-bag-larg...</td>\n",
              "      <td>1677764946</td>\n",
              "      <td>1677676522</td>\n",
              "    </tr>\n",
              "  </tbody>\n",
              "</table>\n",
              "</div>"
            ]
          },
          "metadata": {},
          "execution_count": 136
        }
      ]
    },
    {
      "cell_type": "code",
      "source": [
        "cat_feats = ['user_session', 'category_code', 'brand', 'user_id', 'product_id', 'category_id', 'event_type'] >> nvt.ops.Categorify(start_index=1)"
      ],
      "metadata": {
        "execution": {
          "iopub.status.busy": "2022-07-21T06:21:53.540359Z",
          "iopub.execute_input": "2022-07-21T06:21:53.540612Z",
          "iopub.status.idle": "2022-07-21T06:21:53.554088Z",
          "shell.execute_reply.started": "2022-07-21T06:21:53.540589Z",
          "shell.execute_reply": "2022-07-21T06:21:53.551307Z"
        },
        "trusted": true,
        "id": "nqlwRRYwAdO7"
      },
      "execution_count": 137,
      "outputs": []
    },
    {
      "cell_type": "code",
      "source": [
        "# create time features\n",
        "session_ts = ['event_time_ts']\n",
        "\n",
        "session_time = (\n",
        "    session_ts >> \n",
        "    nvt.ops.LambdaOp(lambda col: cudf.to_datetime(col, unit='s')) >> \n",
        "    nvt.ops.Rename(name = 'event_time_dt')\n",
        ")\n",
        "\n",
        "sessiontime_weekday = (\n",
        "    session_time >> \n",
        "    nvt.ops.LambdaOp(lambda col: col.dt.weekday) >> \n",
        "    nvt.ops.Rename(name ='et_dayofweek')\n",
        ")\n"
      ],
      "metadata": {
        "execution": {
          "iopub.status.busy": "2022-07-21T06:21:53.560117Z",
          "iopub.execute_input": "2022-07-21T06:21:53.56344Z",
          "iopub.status.idle": "2022-07-21T06:21:53.576433Z",
          "shell.execute_reply.started": "2022-07-21T06:21:53.563414Z",
          "shell.execute_reply": "2022-07-21T06:21:53.573478Z"
        },
        "trusted": true,
        "id": "7vnsFHmkAdO7"
      },
      "execution_count": 138,
      "outputs": []
    },
    {
      "cell_type": "code",
      "source": [
        "def get_cycled_feature_value_sin(col, max_value):\n",
        "    value_scaled = (col + 0.000001) / max_value\n",
        "    value_sin = np.sin(2*np.pi*value_scaled)\n",
        "    return value_sin\n",
        "\n",
        "def get_cycled_feature_value_cos(col, max_value):\n",
        "    value_scaled = (col + 0.000001) / max_value\n",
        "    value_cos = np.cos(2*np.pi*value_scaled)\n",
        "    return value_cos\n",
        "weekday_sin = sessiontime_weekday >> (lambda col: get_cycled_feature_value_sin(col+1, 7)) >> nvt.ops.Rename(name = 'et_dayofweek_sin')\n",
        "weekday_cos= sessiontime_weekday >> (lambda col: get_cycled_feature_value_cos(col+1, 7)) >> nvt.ops.Rename(name = 'et_dayofweek_cos')"
      ],
      "metadata": {
        "execution": {
          "iopub.status.busy": "2022-07-21T06:21:53.58254Z",
          "iopub.execute_input": "2022-07-21T06:21:53.582779Z",
          "iopub.status.idle": "2022-07-21T06:21:53.597843Z",
          "shell.execute_reply.started": "2022-07-21T06:21:53.582758Z",
          "shell.execute_reply": "2022-07-21T06:21:53.595417Z"
        },
        "trusted": true,
        "id": "ejE5WMIDAdO7"
      },
      "execution_count": 139,
      "outputs": []
    },
    {
      "cell_type": "code",
      "source": [
        "\n",
        "# Compute Item recency: Define a custom Op \n",
        "class ItemRecency(nvt.ops.Operator):\n",
        "    def transform(self, columns, gdf):\n",
        "        for column in columns.names:\n",
        "            col = gdf[column]\n",
        "            item_first_timestamp = gdf['prod_first_event_time_ts']\n",
        "            delta_days = (col - item_first_timestamp) / (60*60*24)\n",
        "            gdf[column + \"_age_days\"] = delta_days * (delta_days >=0)\n",
        "        return gdf\n",
        "    @property\n",
        "    def dependencies(self):\n",
        "         return [\"prod_first_event_time_ts\"]\n",
        "\n",
        "    def output_column_names(self, columns):\n",
        "        return ColumnSelector([column + \"_age_days\" for column in columns.names])\n",
        "    \n",
        "recency_features = ['event_time_ts'] >> ItemRecency() \n",
        "# Apply standardization to this continuous feature\n",
        "recency_features_norm = recency_features >> nvt.ops.LogOp() >> nvt.ops.Normalize() >> nvt.ops.Rename(name='product_recency_days_log_norm')\n",
        "\n",
        "time_features = (\n",
        "    session_time +\n",
        "    sessiontime_weekday +\n",
        "    weekday_sin +\n",
        "    weekday_cos +\n",
        "    recency_features_norm\n",
        ")\n",
        "\n"
      ],
      "metadata": {
        "execution": {
          "iopub.status.busy": "2022-07-21T06:21:53.605566Z",
          "iopub.execute_input": "2022-07-21T06:21:53.607956Z",
          "iopub.status.idle": "2022-07-21T06:21:53.623448Z",
          "shell.execute_reply.started": "2022-07-21T06:21:53.607931Z",
          "shell.execute_reply": "2022-07-21T06:21:53.619028Z"
        },
        "trusted": true,
        "id": "IT1n0v4IAdO7"
      },
      "execution_count": 140,
      "outputs": []
    },
    {
      "cell_type": "code",
      "source": [
        "price_log = ['price'] >> nvt.ops.LogOp() >> nvt.ops.Normalize() >> nvt.ops.Rename(name='price_log_norm')"
      ],
      "metadata": {
        "execution": {
          "iopub.status.busy": "2022-07-21T06:21:53.645386Z",
          "iopub.execute_input": "2022-07-21T06:21:53.647417Z",
          "iopub.status.idle": "2022-07-21T06:21:53.659072Z",
          "shell.execute_reply.started": "2022-07-21T06:21:53.64739Z",
          "shell.execute_reply": "2022-07-21T06:21:53.655417Z"
        },
        "trusted": true,
        "id": "jp5reXPCAdO7"
      },
      "execution_count": 141,
      "outputs": []
    },
    {
      "cell_type": "code",
      "source": [
        "# Relative price to the average price for the category_id\n",
        "def relative_price_to_avg_categ(col, gdf):\n",
        "    epsilon = 1e-5\n",
        "    col = ((gdf['price'] - col) / (col + epsilon)) * (col > 0).astype(int)\n",
        "    return col\n",
        "    \n",
        "avg_category_id_pr = ['category_id'] >> nvt.ops.JoinGroupby(cont_cols =['price'], stats=[\"mean\"]) >> nvt.ops.Rename(name='avg_category_id_price')\n",
        "relative_price_to_avg_category = avg_category_id_pr >> nvt.ops.LambdaOp(relative_price_to_avg_categ, dependency=['price']) >> nvt.ops.Rename(name=\"relative_price_to_avg_categ_id\")\n"
      ],
      "metadata": {
        "execution": {
          "iopub.status.busy": "2022-07-21T06:21:53.663754Z",
          "iopub.execute_input": "2022-07-21T06:21:53.664154Z",
          "iopub.status.idle": "2022-07-21T06:21:53.678127Z",
          "shell.execute_reply.started": "2022-07-21T06:21:53.664127Z",
          "shell.execute_reply": "2022-07-21T06:21:53.674788Z"
        },
        "trusted": true,
        "id": "V56NRYxZAdO7"
      },
      "execution_count": 142,
      "outputs": []
    },
    {
      "cell_type": "code",
      "source": [
        "groupby_feats = ['event_time_ts', 'user_session'] + cat_feats + time_features + price_log + relative_price_to_avg_category"
      ],
      "metadata": {
        "execution": {
          "iopub.status.busy": "2022-07-21T06:21:53.699041Z",
          "iopub.execute_input": "2022-07-21T06:21:53.715517Z",
          "iopub.status.idle": "2022-07-21T06:21:53.727493Z",
          "shell.execute_reply.started": "2022-07-21T06:21:53.71549Z",
          "shell.execute_reply": "2022-07-21T06:21:53.724764Z"
        },
        "trusted": true,
        "id": "gj-Uv7V8AdO8"
      },
      "execution_count": 143,
      "outputs": []
    },
    {
      "cell_type": "code",
      "source": [
        "# Define Groupby Workflow\n",
        "groupby_features = groupby_feats >> nvt.ops.Groupby(\n",
        "    groupby_cols=[\"user_session\"], \n",
        "    sort_cols=[\"event_time_ts\"],\n",
        "    aggs={\n",
        "        'user_id': ['first'],\n",
        "        'product_id': [\"list\", \"count\"],\n",
        "        'category_code': [\"list\"],  \n",
        "        'event_type': [\"list\"], \n",
        "        'brand': [\"list\"], \n",
        "        'category_id': [\"list\"], \n",
        "        'event_time_ts': [\"first\"],\n",
        "        'event_time_dt': [\"first\"],\n",
        "        'et_dayofweek_sin': [\"list\"],\n",
        "        'et_dayofweek_cos': [\"list\"],\n",
        "        'price_log_norm': [\"list\"],\n",
        "        'relative_price_to_avg_categ_id': [\"list\"],\n",
        "        'product_recency_days_log_norm': [\"list\"]\n",
        "        },\n",
        "    name_sep=\"-\")"
      ],
      "metadata": {
        "execution": {
          "iopub.status.busy": "2022-07-21T06:21:53.733749Z",
          "iopub.execute_input": "2022-07-21T06:21:53.735044Z",
          "iopub.status.idle": "2022-07-21T06:21:53.748838Z",
          "shell.execute_reply.started": "2022-07-21T06:21:53.735009Z",
          "shell.execute_reply": "2022-07-21T06:21:53.746127Z"
        },
        "trusted": true,
        "id": "cVilT7VgAdO8"
      },
      "execution_count": 144,
      "outputs": []
    },
    {
      "cell_type": "code",
      "source": [
        "groupby_features_list = groupby_features['product_id-list',\n",
        "        'category_code-list',  \n",
        "        'event_type-list', \n",
        "        'brand-list', \n",
        "        'category_id-list', \n",
        "        'et_dayofweek_sin-list',\n",
        "        'et_dayofweek_cos-list',\n",
        "        'price_log_norm-list',\n",
        "        'relative_price_to_avg_categ_id-list',\n",
        "        'product_recency_days_log_norm-list']\n"
      ],
      "metadata": {
        "execution": {
          "iopub.status.busy": "2022-07-21T06:21:53.756951Z",
          "iopub.execute_input": "2022-07-21T06:21:53.757219Z",
          "iopub.status.idle": "2022-07-21T06:21:53.770969Z",
          "shell.execute_reply.started": "2022-07-21T06:21:53.757196Z",
          "shell.execute_reply": "2022-07-21T06:21:53.768601Z"
        },
        "trusted": true,
        "id": "TGAZ4YDBAdO8"
      },
      "execution_count": 145,
      "outputs": []
    },
    {
      "cell_type": "code",
      "source": [
        "SESSIONS_MAX_LENGTH = 20 \n",
        "MINIMUM_SESSION_LENGTH = 2\n"
      ],
      "metadata": {
        "execution": {
          "iopub.status.busy": "2022-07-21T06:21:53.777942Z",
          "iopub.execute_input": "2022-07-21T06:21:53.779074Z",
          "iopub.status.idle": "2022-07-21T06:21:53.791707Z",
          "shell.execute_reply.started": "2022-07-21T06:21:53.779047Z",
          "shell.execute_reply": "2022-07-21T06:21:53.789554Z"
        },
        "trusted": true,
        "id": "JbHB4zFrAdO8"
      },
      "execution_count": 146,
      "outputs": []
    },
    {
      "cell_type": "code",
      "source": [
        "groupby_features_trim = groupby_features_list >> nvt.ops.ListSlice(0,SESSIONS_MAX_LENGTH) >> nvt.ops.Rename(postfix = '_seq')"
      ],
      "metadata": {
        "execution": {
          "iopub.status.busy": "2022-07-21T06:21:53.799455Z",
          "iopub.execute_input": "2022-07-21T06:21:53.801936Z",
          "iopub.status.idle": "2022-07-21T06:21:53.81208Z",
          "shell.execute_reply.started": "2022-07-21T06:21:53.801908Z",
          "shell.execute_reply": "2022-07-21T06:21:53.80975Z"
        },
        "trusted": true,
        "id": "mdt8xC47AdO8"
      },
      "execution_count": 147,
      "outputs": []
    },
    {
      "cell_type": "code",
      "source": [
        "# calculate session day index based on 'timestamp-first' column\n",
        "day_index = ((groupby_features['event_time_dt-first'])  >> \n",
        "    nvt.ops.LambdaOp(lambda col: (col - col.min()).dt.days +1) >> \n",
        "    nvt.ops.Rename(f = lambda col: \"day_index\")\n",
        ")\n"
      ],
      "metadata": {
        "execution": {
          "iopub.status.busy": "2022-07-21T06:21:53.817748Z",
          "iopub.execute_input": "2022-07-21T06:21:53.818014Z",
          "iopub.status.idle": "2022-07-21T06:21:53.828514Z",
          "shell.execute_reply.started": "2022-07-21T06:21:53.817983Z",
          "shell.execute_reply": "2022-07-21T06:21:53.826392Z"
        },
        "trusted": true,
        "id": "JQjV9qaCAdO8"
      },
      "execution_count": 148,
      "outputs": []
    },
    {
      "cell_type": "code",
      "source": [
        "selected_features = groupby_features['user_session', 'product_id-count'] + groupby_features_trim + day_index"
      ],
      "metadata": {
        "execution": {
          "iopub.status.busy": "2022-07-21T06:21:53.836058Z",
          "iopub.execute_input": "2022-07-21T06:21:53.837144Z",
          "iopub.status.idle": "2022-07-21T06:21:53.849239Z",
          "shell.execute_reply.started": "2022-07-21T06:21:53.837109Z",
          "shell.execute_reply": "2022-07-21T06:21:53.846746Z"
        },
        "trusted": true,
        "id": "4nY178m4AdO8"
      },
      "execution_count": 149,
      "outputs": []
    },
    {
      "cell_type": "code",
      "source": [
        "filtered_sessions = selected_features >> nvt.ops.Filter(f=lambda df: df[\"product_id-count\"] >= MINIMUM_SESSION_LENGTH)"
      ],
      "metadata": {
        "execution": {
          "iopub.status.busy": "2022-07-21T06:21:53.85655Z",
          "iopub.execute_input": "2022-07-21T06:21:53.857781Z",
          "iopub.status.idle": "2022-07-21T06:21:53.868261Z",
          "shell.execute_reply.started": "2022-07-21T06:21:53.857747Z",
          "shell.execute_reply": "2022-07-21T06:21:53.865649Z"
        },
        "trusted": true,
        "id": "PQvypD7NAdO8"
      },
      "execution_count": 150,
      "outputs": []
    },
    {
      "cell_type": "code",
      "source": [
        "# avoid numba warnings\n",
        "from numba import config\n",
        "config.CUDA_LOW_OCCUPANCY_WARNINGS = 0"
      ],
      "metadata": {
        "execution": {
          "iopub.status.busy": "2022-07-21T06:21:53.875597Z",
          "iopub.execute_input": "2022-07-21T06:21:53.877869Z",
          "iopub.status.idle": "2022-07-21T06:21:53.887983Z",
          "shell.execute_reply.started": "2022-07-21T06:21:53.877842Z",
          "shell.execute_reply": "2022-07-21T06:21:53.88488Z"
        },
        "trusted": true,
        "id": "l1F6Gi2iAdO8"
      },
      "execution_count": 151,
      "outputs": []
    },
    {
      "cell_type": "code",
      "source": [
        "dataset = nvt.Dataset(df)\n",
        "\n",
        "workflow = nvt.Workflow(filtered_sessions)\n",
        "workflow.fit(dataset)\n",
        "sessions_gdf = workflow.transform(dataset).to_ddf()"
      ],
      "metadata": {
        "execution": {
          "iopub.status.busy": "2022-07-21T06:21:53.895771Z",
          "iopub.execute_input": "2022-07-21T06:21:53.896042Z",
          "iopub.status.idle": "2022-07-21T06:21:56.766499Z",
          "shell.execute_reply.started": "2022-07-21T06:21:53.896019Z",
          "shell.execute_reply": "2022-07-21T06:21:56.76436Z"
        },
        "trusted": true,
        "id": "-poui9_gAdO8"
      },
      "execution_count": 152,
      "outputs": []
    },
    {
      "cell_type": "code",
      "source": [
        "sessions_gdf.head(3)"
      ],
      "metadata": {
        "execution": {
          "iopub.status.busy": "2022-07-21T06:21:56.771752Z",
          "iopub.execute_input": "2022-07-21T06:21:56.772072Z",
          "iopub.status.idle": "2022-07-21T06:21:58.954315Z",
          "shell.execute_reply.started": "2022-07-21T06:21:56.772046Z",
          "shell.execute_reply": "2022-07-21T06:21:58.951921Z"
        },
        "trusted": true,
        "colab": {
          "base_uri": "https://localhost:8080/",
          "height": 389
        },
        "id": "tC4rpQtCAdO8",
        "outputId": "ef710f2b-4011-465d-b910-fd76c0ae8209"
      },
      "execution_count": 153,
      "outputs": [
        {
          "output_type": "execute_result",
          "data": {
            "text/plain": [
              "   user_session  product_id-count  \\\n",
              "0             2               330   \n",
              "1             3               280   \n",
              "2             4               259   \n",
              "\n",
              "                                 product_id-list_seq  \\\n",
              "0  [5403, 3, 5, 16, 86, 2477, 407, 9329, 2161, 49...   \n",
              "1  [1089, 3539, 1540, 806, 17411, 13505, 6624, 27...   \n",
              "2  [3, 1633, 2970, 4059, 2572, 4909, 2572, 1633, ...   \n",
              "\n",
              "                              category_code-list_seq  \\\n",
              "0  [74, 14, 2, 2, 2, 52, 52, 20, 39, 2, 54, 2, 31...   \n",
              "1  [19, 76, 11, 11, 75, 29, 29, 162, 7, 15, 15, 1...   \n",
              "2  [14, 40, 40, 40, 40, 40, 40, 40, 40, 40, 326, ...   \n",
              "\n",
              "                                 event_type-list_seq  \\\n",
              "0  [2, 2, 2, 2, 2, 2, 2, 2, 2, 2, 2, 2, 2, 2, 2, ...   \n",
              "1  [2, 2, 2, 2, 2, 2, 2, 2, 2, 2, 2, 2, 2, 2, 2, ...   \n",
              "2  [2, 2, 2, 2, 2, 2, 2, 2, 2, 2, 2, 2, 2, 2, 2, ...   \n",
              "\n",
              "                                      brand-list_seq  \\\n",
              "0  [207, 3, 12, 12, 12, 12, 12, 12, 12, 12, 12, 1...   \n",
              "1  [23, 23, 23, 23, 23, 23, 23, 121, 253, 44, 25,...   \n",
              "2  [3, 10, 10, 10, 10, 10, 10, 10, 10, 10, 10, 10...   \n",
              "\n",
              "                                category_id-list_seq  \\\n",
              "0  [84, 15, 2, 2, 2, 43, 43, 17, 27, 2, 53, 2, 49...   \n",
              "1  [20, 76, 55, 55, 79, 72, 72, 169, 22, 32, 326,...   \n",
              "2  [15, 47, 47, 47, 47, 47, 47, 47, 47, 47, 401, ...   \n",
              "\n",
              "                           et_dayofweek_sin-list_seq  \\\n",
              "0  [-0.9749281119157542, -0.9749281119157542, -0....   \n",
              "1  [-0.9749281119157542, -0.9749281119157542, -0....   \n",
              "2  [0.43388293040961884, 0.43388293040961884, 0.4...   \n",
              "\n",
              "                           et_dayofweek_cos-list_seq  \\\n",
              "0  [-0.22252005886297657, -0.22252005886297657, -...   \n",
              "1  [-0.22252005886297657, -0.22252005886297657, -...   \n",
              "2  [-0.9009692573551896, -0.9009692573551896, -0....   \n",
              "\n",
              "                             price_log_norm-list_seq  \\\n",
              "0  [2.1784331798553467, -0.20048125088214874, -0....   \n",
              "1  [-1.8582172393798828, -1.036149501800537, -1.4...   \n",
              "2  [-0.20048125088214874, -0.08019714057445526, -...   \n",
              "\n",
              "             relative_price_to_avg_categ_id-list_seq  \\\n",
              "0  [-0.48128364896438747, -0.0008073852542247119,...   \n",
              "1  [-0.8825235764056624, -0.354679024075132, -0.7...   \n",
              "2  [-0.0008073852542247119, -0.009803943114713387...   \n",
              "\n",
              "              product_recency_days_log_norm-list_seq  day_index  \n",
              "0  [0.007566578686237335, 0.007566578686237335, 0...          3  \n",
              "1  [0.009187988005578518, 0.009187988005578518, 0...          3  \n",
              "2  [-0.019997386261820793, -0.019997386261820793,...          1  "
            ],
            "text/html": [
              "<div>\n",
              "<style scoped>\n",
              "    .dataframe tbody tr th:only-of-type {\n",
              "        vertical-align: middle;\n",
              "    }\n",
              "\n",
              "    .dataframe tbody tr th {\n",
              "        vertical-align: top;\n",
              "    }\n",
              "\n",
              "    .dataframe thead th {\n",
              "        text-align: right;\n",
              "    }\n",
              "</style>\n",
              "<table border=\"1\" class=\"dataframe\">\n",
              "  <thead>\n",
              "    <tr style=\"text-align: right;\">\n",
              "      <th></th>\n",
              "      <th>user_session</th>\n",
              "      <th>product_id-count</th>\n",
              "      <th>product_id-list_seq</th>\n",
              "      <th>category_code-list_seq</th>\n",
              "      <th>event_type-list_seq</th>\n",
              "      <th>brand-list_seq</th>\n",
              "      <th>category_id-list_seq</th>\n",
              "      <th>et_dayofweek_sin-list_seq</th>\n",
              "      <th>et_dayofweek_cos-list_seq</th>\n",
              "      <th>price_log_norm-list_seq</th>\n",
              "      <th>relative_price_to_avg_categ_id-list_seq</th>\n",
              "      <th>product_recency_days_log_norm-list_seq</th>\n",
              "      <th>day_index</th>\n",
              "    </tr>\n",
              "  </thead>\n",
              "  <tbody>\n",
              "    <tr>\n",
              "      <th>0</th>\n",
              "      <td>2</td>\n",
              "      <td>330</td>\n",
              "      <td>[5403, 3, 5, 16, 86, 2477, 407, 9329, 2161, 49...</td>\n",
              "      <td>[74, 14, 2, 2, 2, 52, 52, 20, 39, 2, 54, 2, 31...</td>\n",
              "      <td>[2, 2, 2, 2, 2, 2, 2, 2, 2, 2, 2, 2, 2, 2, 2, ...</td>\n",
              "      <td>[207, 3, 12, 12, 12, 12, 12, 12, 12, 12, 12, 1...</td>\n",
              "      <td>[84, 15, 2, 2, 2, 43, 43, 17, 27, 2, 53, 2, 49...</td>\n",
              "      <td>[-0.9749281119157542, -0.9749281119157542, -0....</td>\n",
              "      <td>[-0.22252005886297657, -0.22252005886297657, -...</td>\n",
              "      <td>[2.1784331798553467, -0.20048125088214874, -0....</td>\n",
              "      <td>[-0.48128364896438747, -0.0008073852542247119,...</td>\n",
              "      <td>[0.007566578686237335, 0.007566578686237335, 0...</td>\n",
              "      <td>3</td>\n",
              "    </tr>\n",
              "    <tr>\n",
              "      <th>1</th>\n",
              "      <td>3</td>\n",
              "      <td>280</td>\n",
              "      <td>[1089, 3539, 1540, 806, 17411, 13505, 6624, 27...</td>\n",
              "      <td>[19, 76, 11, 11, 75, 29, 29, 162, 7, 15, 15, 1...</td>\n",
              "      <td>[2, 2, 2, 2, 2, 2, 2, 2, 2, 2, 2, 2, 2, 2, 2, ...</td>\n",
              "      <td>[23, 23, 23, 23, 23, 23, 23, 121, 253, 44, 25,...</td>\n",
              "      <td>[20, 76, 55, 55, 79, 72, 72, 169, 22, 32, 326,...</td>\n",
              "      <td>[-0.9749281119157542, -0.9749281119157542, -0....</td>\n",
              "      <td>[-0.22252005886297657, -0.22252005886297657, -...</td>\n",
              "      <td>[-1.8582172393798828, -1.036149501800537, -1.4...</td>\n",
              "      <td>[-0.8825235764056624, -0.354679024075132, -0.7...</td>\n",
              "      <td>[0.009187988005578518, 0.009187988005578518, 0...</td>\n",
              "      <td>3</td>\n",
              "    </tr>\n",
              "    <tr>\n",
              "      <th>2</th>\n",
              "      <td>4</td>\n",
              "      <td>259</td>\n",
              "      <td>[3, 1633, 2970, 4059, 2572, 4909, 2572, 1633, ...</td>\n",
              "      <td>[14, 40, 40, 40, 40, 40, 40, 40, 40, 40, 326, ...</td>\n",
              "      <td>[2, 2, 2, 2, 2, 2, 2, 2, 2, 2, 2, 2, 2, 2, 2, ...</td>\n",
              "      <td>[3, 10, 10, 10, 10, 10, 10, 10, 10, 10, 10, 10...</td>\n",
              "      <td>[15, 47, 47, 47, 47, 47, 47, 47, 47, 47, 401, ...</td>\n",
              "      <td>[0.43388293040961884, 0.43388293040961884, 0.4...</td>\n",
              "      <td>[-0.9009692573551896, -0.9009692573551896, -0....</td>\n",
              "      <td>[-0.20048125088214874, -0.08019714057445526, -...</td>\n",
              "      <td>[-0.0008073852542247119, -0.009803943114713387...</td>\n",
              "      <td>[-0.019997386261820793, -0.019997386261820793,...</td>\n",
              "      <td>1</td>\n",
              "    </tr>\n",
              "  </tbody>\n",
              "</table>\n",
              "</div>"
            ]
          },
          "metadata": {},
          "execution_count": 153
        }
      ]
    },
    {
      "cell_type": "code",
      "source": [
        "workflow.output_schema.column_names"
      ],
      "metadata": {
        "execution": {
          "iopub.status.busy": "2022-07-21T06:21:58.960663Z",
          "iopub.execute_input": "2022-07-21T06:21:58.96166Z",
          "iopub.status.idle": "2022-07-21T06:21:58.977829Z",
          "shell.execute_reply.started": "2022-07-21T06:21:58.961621Z",
          "shell.execute_reply": "2022-07-21T06:21:58.974805Z"
        },
        "trusted": true,
        "colab": {
          "base_uri": "https://localhost:8080/"
        },
        "id": "pN27h1SaAdO9",
        "outputId": "f8dd36cd-f95f-4573-a612-cd0d8d3bd378"
      },
      "execution_count": 154,
      "outputs": [
        {
          "output_type": "execute_result",
          "data": {
            "text/plain": [
              "['user_session',\n",
              " 'product_id-count',\n",
              " 'product_id-list_seq',\n",
              " 'category_code-list_seq',\n",
              " 'event_type-list_seq',\n",
              " 'brand-list_seq',\n",
              " 'category_id-list_seq',\n",
              " 'et_dayofweek_sin-list_seq',\n",
              " 'et_dayofweek_cos-list_seq',\n",
              " 'price_log_norm-list_seq',\n",
              " 'relative_price_to_avg_categ_id-list_seq',\n",
              " 'product_recency_days_log_norm-list_seq',\n",
              " 'day_index']"
            ]
          },
          "metadata": {},
          "execution_count": 154
        }
      ]
    },
    {
      "cell_type": "code",
      "source": [
        "workflow_path = os.path.join('./', 'workflow_etl')\n",
        "workflow.save(workflow_path)"
      ],
      "metadata": {
        "execution": {
          "iopub.status.busy": "2022-07-21T06:21:58.982885Z",
          "iopub.execute_input": "2022-07-21T06:21:58.983168Z",
          "iopub.status.idle": "2022-07-21T06:21:59.071538Z",
          "shell.execute_reply.started": "2022-07-21T06:21:58.983145Z",
          "shell.execute_reply": "2022-07-21T06:21:59.069433Z"
        },
        "trusted": true,
        "id": "Tl-JJqHNAdO9"
      },
      "execution_count": 155,
      "outputs": []
    },
    {
      "cell_type": "code",
      "source": [
        "import locale\n",
        "def getpreferredencoding(do_setlocale = True):\n",
        "    return \"UTF-8\"\n",
        "locale.getpreferredencoding = getpreferredencoding"
      ],
      "metadata": {
        "id": "tOMG6wDFH0eL"
      },
      "execution_count": 156,
      "outputs": []
    },
    {
      "cell_type": "code",
      "source": [
        "# define partition column\n",
        "PARTITION_COL = 'day_index'\n",
        "\n",
        "# define output_folder to store the partitioned parquet files\n",
        "OUTPUT_FOLDER = os.environ.get(\"OUTPUT_FOLDER\", './' + \"sessions_by_day\")\n",
        "!mkdir -p $OUTPUT_FOLDER"
      ],
      "metadata": {
        "execution": {
          "iopub.status.busy": "2022-07-21T06:21:59.076437Z",
          "iopub.execute_input": "2022-07-21T06:21:59.078872Z",
          "iopub.status.idle": "2022-07-21T06:22:00.097699Z",
          "shell.execute_reply.started": "2022-07-21T06:21:59.078847Z",
          "shell.execute_reply": "2022-07-21T06:22:00.095061Z"
        },
        "trusted": true,
        "id": "4BslXM2dAdO9"
      },
      "execution_count": 157,
      "outputs": []
    },
    {
      "cell_type": "code",
      "source": [
        "from transformers4rec.data.preprocessing import save_time_based_splits\n",
        "save_time_based_splits(data=nvt.Dataset(sessions_gdf),\n",
        "                       output_dir= OUTPUT_FOLDER,\n",
        "                       partition_col=PARTITION_COL,\n",
        "                       timestamp_col='user_session', \n",
        "                      )"
      ],
      "metadata": {
        "execution": {
          "iopub.status.busy": "2022-07-21T06:22:00.104685Z",
          "iopub.execute_input": "2022-07-21T06:22:00.105031Z",
          "iopub.status.idle": "2022-07-21T06:22:05.018911Z",
          "shell.execute_reply.started": "2022-07-21T06:22:00.104991Z",
          "shell.execute_reply": "2022-07-21T06:22:05.016574Z"
        },
        "trusted": true,
        "colab": {
          "base_uri": "https://localhost:8080/"
        },
        "id": "c5ZVyoLVAdO9",
        "outputId": "7d03d8fd-b167-4120-b146-acf812c28c57"
      },
      "execution_count": 158,
      "outputs": [
        {
          "output_type": "stream",
          "name": "stderr",
          "text": [
            "Creating time-based splits: 100%|██████████| 4/4 [00:00<00:00,  4.07it/s]\n"
          ]
        }
      ]
    },
    {
      "cell_type": "code",
      "source": [
        "!ls $OUTPUT_FOLDER"
      ],
      "metadata": {
        "execution": {
          "iopub.status.busy": "2022-07-21T06:22:05.024049Z",
          "iopub.execute_input": "2022-07-21T06:22:05.024332Z",
          "iopub.status.idle": "2022-07-21T06:22:05.967396Z",
          "shell.execute_reply.started": "2022-07-21T06:22:05.024305Z",
          "shell.execute_reply": "2022-07-21T06:22:05.965058Z"
        },
        "trusted": true,
        "colab": {
          "base_uri": "https://localhost:8080/"
        },
        "id": "n-VbYnoOAdO9",
        "outputId": "fdece394-8e14-4e36-dfed-90a1324d6ebc"
      },
      "execution_count": 159,
      "outputs": [
        {
          "output_type": "stream",
          "name": "stdout",
          "text": [
            "1  2  3  4\n"
          ]
        }
      ]
    },
    {
      "cell_type": "code",
      "source": [
        "!pip install torchmetrics"
      ],
      "metadata": {
        "id": "Ha_XJ6FeICKx",
        "colab": {
          "base_uri": "https://localhost:8080/"
        },
        "outputId": "48a72ab3-fd05-4144-f593-48b85333c4fd"
      },
      "execution_count": 160,
      "outputs": [
        {
          "output_type": "stream",
          "name": "stdout",
          "text": [
            "Looking in indexes: https://pypi.org/simple, https://us-python.pkg.dev/colab-wheels/public/simple/\n",
            "Requirement already satisfied: torchmetrics in /usr/local/lib/python3.9/dist-packages (0.11.4)\n",
            "Requirement already satisfied: torch>=1.8.1 in /usr/local/lib/python3.9/dist-packages (from torchmetrics) (1.13.1+cu116)\n",
            "Requirement already satisfied: packaging in /usr/local/lib/python3.9/dist-packages (from torchmetrics) (23.0)\n",
            "Requirement already satisfied: numpy>=1.17.2 in /usr/local/lib/python3.9/dist-packages (from torchmetrics) (1.22.4)\n",
            "Requirement already satisfied: typing-extensions in /usr/local/lib/python3.9/dist-packages (from torch>=1.8.1->torchmetrics) (4.5.0)\n"
          ]
        }
      ]
    },
    {
      "cell_type": "code",
      "source": [
        "import os\n",
        "import glob\n",
        "\n",
        "import torch \n",
        "import transformers4rec.torch as tr\n",
        "\n",
        "from transformers4rec.torch.ranking_metric import NDCGAt, RecallAt\n",
        "from transformers4rec.torch.utils.examples_utils import wipe_memory"
      ],
      "metadata": {
        "execution": {
          "iopub.status.busy": "2022-07-21T06:22:05.969754Z",
          "iopub.execute_input": "2022-07-21T06:22:05.970144Z",
          "iopub.status.idle": "2022-07-21T06:22:05.98279Z",
          "shell.execute_reply.started": "2022-07-21T06:22:05.970106Z",
          "shell.execute_reply": "2022-07-21T06:22:05.980184Z"
        },
        "trusted": true,
        "id": "2e7sDTWFAdO9"
      },
      "execution_count": 161,
      "outputs": []
    },
    {
      "cell_type": "code",
      "source": [
        "from merlin_standard_lib import Schema\n",
        "# Define schema object to pass it to the TabularSequenceFeatures class\n",
        "SCHEMA_PATH = '/content/drive/MyDrive/ds_data/schema_tutorial.pb'\n",
        "\n",
        "x_cat_names = ['product_id-list_seq', 'category_id-list_seq', 'brand-list_seq']\n",
        "x_cont_names = ['product_recency_days_log_norm-list_seq', 'et_dayofweek_sin-list_seq', 'et_dayofweek_cos-list_seq', \n",
        "                'price_log_norm-list_seq', 'relative_price_to_avg_categ_id-list_seq']\n",
        "\n",
        "schema = Schema().from_proto_text(SCHEMA_PATH)\n",
        "schema = schema.select_by_name(x_cat_names + x_cont_names)"
      ],
      "metadata": {
        "execution": {
          "iopub.status.busy": "2022-07-21T06:22:05.987632Z",
          "iopub.execute_input": "2022-07-21T06:22:05.990355Z",
          "iopub.status.idle": "2022-07-21T06:22:06.019844Z",
          "shell.execute_reply.started": "2022-07-21T06:22:05.990329Z",
          "shell.execute_reply": "2022-07-21T06:22:06.018007Z"
        },
        "trusted": true,
        "id": "WIU6g9TlAdO9"
      },
      "execution_count": 162,
      "outputs": []
    },
    {
      "cell_type": "code",
      "source": [
        "sequence_length, d_model = 20, 192\n",
        "# Define input module to process tabular input-features and to prepare masked inputs\n",
        "inputs= tr.TabularSequenceFeatures.from_schema(\n",
        "    schema,\n",
        "    max_sequence_length=sequence_length,\n",
        "    aggregation=\"concat\",\n",
        "    d_output=d_model,\n",
        "    masking=\"mlm\",\n",
        ")"
      ],
      "metadata": {
        "execution": {
          "iopub.status.busy": "2022-07-21T06:22:06.026519Z",
          "iopub.execute_input": "2022-07-21T06:22:06.026766Z",
          "iopub.status.idle": "2022-07-21T06:22:06.31547Z",
          "shell.execute_reply.started": "2022-07-21T06:22:06.026742Z",
          "shell.execute_reply": "2022-07-21T06:22:06.3124Z"
        },
        "trusted": true,
        "id": "d6M1ZyYiAdO9"
      },
      "execution_count": 163,
      "outputs": []
    },
    {
      "cell_type": "code",
      "source": [
        "# body = tr.SequentialBlock(\n",
        "#         inputs,\n",
        "#         tr.MLPBlock([d_model]),\n",
        "#         tr.Block(torch.nn.GRU(input_size=d_model, hidden_size=d_model, num_layers=1), [None, 20, d_model])\n",
        "# )"
      ],
      "metadata": {
        "execution": {
          "iopub.status.busy": "2022-07-21T06:22:06.321705Z",
          "iopub.execute_input": "2022-07-21T06:22:06.322023Z",
          "iopub.status.idle": "2022-07-21T06:22:06.33374Z",
          "shell.execute_reply.started": "2022-07-21T06:22:06.321992Z",
          "shell.execute_reply": "2022-07-21T06:22:06.330091Z"
        },
        "trusted": true,
        "id": "ZiPb0EdAAdO9"
      },
      "execution_count": null,
      "outputs": []
    },
    {
      "cell_type": "code",
      "source": [
        "# Define XLNetConfig class and set default parameters for HF XLNet config  \n",
        "transformer_config = tr.XLNetConfig.build(\n",
        "    d_model=d_model, n_head=4, n_layer=2, total_seq_length=sequence_length\n",
        ")\n",
        "# Define the model block including: inputs, masking, projection and transformer block.\n",
        "body = tr.SequentialBlock(\n",
        "    inputs, tr.MLPBlock([192]), tr.TransformerBlock(transformer_config, masking=inputs.masking)\n",
        ")\n",
        "# Define the head related to next item prediction task \n",
        "head = tr.Head(\n",
        "    body,\n",
        "    tr.NextItemPredictionTask(weight_tying=True, \n",
        "                                     metrics=[NDCGAt(top_ks=[10, 20], labels_onehot=True),  \n",
        "                                              RecallAt(top_ks=[10, 20], labels_onehot=True)]),\n",
        "              \n",
        ")\n",
        "\n",
        "\n",
        "# Get the end-to-end Model class \n",
        "model = tr.Model(head)\n"
      ],
      "metadata": {
        "execution": {
          "iopub.status.busy": "2022-07-21T06:22:06.338889Z",
          "iopub.execute_input": "2022-07-21T06:22:06.339838Z",
          "iopub.status.idle": "2022-07-21T06:22:06.409887Z",
          "shell.execute_reply.started": "2022-07-21T06:22:06.339812Z",
          "shell.execute_reply": "2022-07-21T06:22:06.40682Z"
        },
        "trusted": true,
        "colab": {
          "base_uri": "https://localhost:8080/"
        },
        "id": "VYFJY_R6AdO9",
        "outputId": "f2b99257-6618-44ce-8324-81b417b2da3b"
      },
      "execution_count": 164,
      "outputs": [
        {
          "output_type": "stream",
          "name": "stderr",
          "text": [
            "WARNING:transformers4rec:Projecting inputs of NextItemPredictionTask to'64' As weight tying requires the input dimension '192' to be equal to the item-id embedding dimension '64'\n"
          ]
        }
      ]
    },
    {
      "cell_type": "code",
      "source": [
        "model "
      ],
      "metadata": {
        "execution": {
          "iopub.status.busy": "2022-07-21T06:22:06.414272Z",
          "iopub.execute_input": "2022-07-21T06:22:06.416925Z",
          "iopub.status.idle": "2022-07-21T06:22:06.433754Z",
          "shell.execute_reply.started": "2022-07-21T06:22:06.416897Z",
          "shell.execute_reply": "2022-07-21T06:22:06.431936Z"
        },
        "trusted": true,
        "colab": {
          "base_uri": "https://localhost:8080/"
        },
        "id": "CttsLUmhAdO9",
        "outputId": "567d4988-bc7c-4e4a-973c-df1b8578e7b8"
      },
      "execution_count": 165,
      "outputs": [
        {
          "output_type": "execute_result",
          "data": {
            "text/plain": [
              "Model(\n",
              "  (heads): ModuleList(\n",
              "    (0): Head(\n",
              "      (body): SequentialBlock(\n",
              "        (0): TabularSequenceFeatures(\n",
              "          (_aggregation): ConcatFeatures()\n",
              "          (to_merge): ModuleDict(\n",
              "            (continuous_module): ContinuousFeatures(\n",
              "              (filter_features): FilterFeatures()\n",
              "            )\n",
              "            (categorical_module): SequenceEmbeddingFeatures(\n",
              "              (filter_features): FilterFeatures()\n",
              "              (embedding_tables): ModuleDict(\n",
              "                (category_id-list_seq): Embedding(1010, 64, padding_idx=0)\n",
              "                (brand-list_seq): Embedding(4192, 64, padding_idx=0)\n",
              "                (product_id-list_seq): Embedding(176394, 64, padding_idx=0)\n",
              "              )\n",
              "            )\n",
              "          )\n",
              "          (projection_module): SequentialBlock(\n",
              "            (0): DenseBlock(\n",
              "              (0): Linear(in_features=197, out_features=192, bias=True)\n",
              "              (1): ReLU(inplace=True)\n",
              "            )\n",
              "          )\n",
              "          (_masking): MaskedLanguageModeling()\n",
              "        )\n",
              "        (1): SequentialBlock(\n",
              "          (0): DenseBlock(\n",
              "            (0): Linear(in_features=192, out_features=192, bias=True)\n",
              "            (1): ReLU(inplace=True)\n",
              "          )\n",
              "        )\n",
              "        (2): TansformerBlock(\n",
              "          (transformer): XLNetModel(\n",
              "            (word_embedding): Embedding(1, 192)\n",
              "            (layer): ModuleList(\n",
              "              (0): XLNetLayer(\n",
              "                (rel_attn): XLNetRelativeAttention(\n",
              "                  (layer_norm): LayerNorm((192,), eps=0.03, elementwise_affine=True)\n",
              "                  (dropout): Dropout(p=0.3, inplace=False)\n",
              "                )\n",
              "                (ff): XLNetFeedForward(\n",
              "                  (layer_norm): LayerNorm((192,), eps=0.03, elementwise_affine=True)\n",
              "                  (layer_1): Linear(in_features=192, out_features=768, bias=True)\n",
              "                  (layer_2): Linear(in_features=768, out_features=192, bias=True)\n",
              "                  (dropout): Dropout(p=0.3, inplace=False)\n",
              "                  (activation_function): GELUActivation()\n",
              "                )\n",
              "                (dropout): Dropout(p=0.3, inplace=False)\n",
              "              )\n",
              "              (1): XLNetLayer(\n",
              "                (rel_attn): XLNetRelativeAttention(\n",
              "                  (layer_norm): LayerNorm((192,), eps=0.03, elementwise_affine=True)\n",
              "                  (dropout): Dropout(p=0.3, inplace=False)\n",
              "                )\n",
              "                (ff): XLNetFeedForward(\n",
              "                  (layer_norm): LayerNorm((192,), eps=0.03, elementwise_affine=True)\n",
              "                  (layer_1): Linear(in_features=192, out_features=768, bias=True)\n",
              "                  (layer_2): Linear(in_features=768, out_features=192, bias=True)\n",
              "                  (dropout): Dropout(p=0.3, inplace=False)\n",
              "                  (activation_function): GELUActivation()\n",
              "                )\n",
              "                (dropout): Dropout(p=0.3, inplace=False)\n",
              "              )\n",
              "            )\n",
              "            (dropout): Dropout(p=0.3, inplace=False)\n",
              "          )\n",
              "          (masking): MaskedLanguageModeling()\n",
              "        )\n",
              "      )\n",
              "      (prediction_task_dict): ModuleDict(\n",
              "        (next-item): NextItemPredictionTask(\n",
              "          (sequence_summary): SequenceSummary(\n",
              "            (summary): Identity()\n",
              "            (activation): Identity()\n",
              "            (first_dropout): Identity()\n",
              "            (last_dropout): Identity()\n",
              "          )\n",
              "          (metrics): ModuleList(\n",
              "            (0): NDCGAt()\n",
              "            (1): RecallAt()\n",
              "          )\n",
              "          (loss): NLLLoss()\n",
              "          (embeddings): SequenceEmbeddingFeatures(\n",
              "            (filter_features): FilterFeatures()\n",
              "            (embedding_tables): ModuleDict(\n",
              "              (category_id-list_seq): Embedding(1010, 64, padding_idx=0)\n",
              "              (brand-list_seq): Embedding(4192, 64, padding_idx=0)\n",
              "              (product_id-list_seq): Embedding(176394, 64, padding_idx=0)\n",
              "            )\n",
              "          )\n",
              "          (item_embedding_table): Embedding(176394, 64, padding_idx=0)\n",
              "          (masking): MaskedLanguageModeling()\n",
              "          (task_block): SequentialBlock(\n",
              "            (0): DenseBlock(\n",
              "              (0): Linear(in_features=192, out_features=64, bias=True)\n",
              "              (1): ReLU(inplace=True)\n",
              "            )\n",
              "          )\n",
              "          (pre): Block(\n",
              "            (module): NextItemPredictionTask(\n",
              "              (item_embedding_table): Embedding(176394, 64, padding_idx=0)\n",
              "              (log_softmax): LogSoftmax(dim=-1)\n",
              "            )\n",
              "          )\n",
              "        )\n",
              "      )\n",
              "    )\n",
              "  )\n",
              ")"
            ]
          },
          "metadata": {},
          "execution_count": 165
        }
      ]
    },
    {
      "cell_type": "code",
      "source": [
        "# # import NVTabular dependencies\n",
        "# from transformers4rec.torch.utils.data_utils import NVTabularDataLoader\n",
        "\n",
        "\n",
        "# # dictionary representing max sequence length for column\n",
        "# sparse_features_max = {\n",
        "#     fname: sequence_length\n",
        "#     for fname in x_cat_names + x_cont_names\n",
        "# }\n",
        "\n",
        "# # Define a `get_dataloader` function to call in the training loop\n",
        "# def get_dataloader(path, batch_size=32):\n",
        "\n",
        "#     return NVTabularDataLoader.from_schema(\n",
        "#         schema,\n",
        "#         path, \n",
        "#         batch_size,\n",
        "#         max_sequence_length=sequence_length,\n",
        "#         sparse_names=x_cat_names + x_cont_names,\n",
        "#         sparse_max=sparse_features_max,\n",
        "# )"
      ],
      "metadata": {
        "execution": {
          "iopub.status.busy": "2022-07-21T06:22:06.440914Z",
          "iopub.execute_input": "2022-07-21T06:22:06.441192Z",
          "iopub.status.idle": "2022-07-21T06:22:06.453462Z",
          "shell.execute_reply.started": "2022-07-21T06:22:06.441169Z",
          "shell.execute_reply": "2022-07-21T06:22:06.451006Z"
        },
        "trusted": true,
        "id": "x1Nspf_8AdO9"
      },
      "execution_count": null,
      "outputs": []
    },
    {
      "cell_type": "code",
      "source": [
        "from transformers4rec.config.trainer import T4RecTrainingArguments\n",
        "from transformers4rec.torch import Trainer\n",
        "from transformers4rec.torch.utils.examples_utils import wipe_memory\n",
        "\n",
        "#Set arguments for training \n",
        "training_args = T4RecTrainingArguments(\n",
        "            output_dir=\"./tmp\",\n",
        "            max_sequence_length=50,\n",
        "            data_loader_engine='nvtabular',\n",
        "            num_train_epochs=1000, \n",
        "            dataloader_drop_last=False,\n",
        "            per_device_train_batch_size = 2500,\n",
        "            per_device_eval_batch_size = 32,\n",
        "            gradient_accumulation_steps = 10,\n",
        "            learning_rate=0.000666,\n",
        "            report_to = [],\n",
        "            logging_steps=1,\n",
        ")"
      ],
      "metadata": {
        "execution": {
          "iopub.status.busy": "2022-07-21T06:22:22.453485Z",
          "iopub.execute_input": "2022-07-21T06:22:22.453827Z",
          "iopub.status.idle": "2022-07-21T06:22:22.47107Z",
          "shell.execute_reply.started": "2022-07-21T06:22:22.453797Z",
          "shell.execute_reply": "2022-07-21T06:22:22.468795Z"
        },
        "trusted": true,
        "id": "a9LEqyf9AdO-",
        "colab": {
          "base_uri": "https://localhost:8080/"
        },
        "outputId": "cea0bc18-344c-42a1-e43c-2cfce7ad3eef"
      },
      "execution_count": 166,
      "outputs": [
        {
          "output_type": "stream",
          "name": "stderr",
          "text": [
            "PyTorch: setting up devices\n"
          ]
        }
      ]
    },
    {
      "cell_type": "code",
      "source": [
        "# Instantiate the T4Rec Trainer, which manages training and evaluation\n",
        "trainer = Trainer(\n",
        "    model=model,\n",
        "    args=training_args,\n",
        "    schema=schema,\n",
        "    compute_metrics=True,\n",
        ")"
      ],
      "metadata": {
        "execution": {
          "iopub.status.busy": "2022-07-21T06:22:23.291005Z",
          "iopub.execute_input": "2022-07-21T06:22:23.29179Z",
          "iopub.status.idle": "2022-07-21T06:22:23.345514Z",
          "shell.execute_reply.started": "2022-07-21T06:22:23.291758Z",
          "shell.execute_reply": "2022-07-21T06:22:23.343064Z"
        },
        "trusted": true,
        "id": "9-UKJsvAAdO-"
      },
      "execution_count": 167,
      "outputs": []
    },
    {
      "cell_type": "code",
      "source": [
        "OUTPUT_DIR =\"./sessions_by_day\"\n",
        "OUTPUT_DIR"
      ],
      "metadata": {
        "execution": {
          "iopub.status.busy": "2022-07-21T06:22:25.327396Z",
          "iopub.execute_input": "2022-07-21T06:22:25.327732Z",
          "iopub.status.idle": "2022-07-21T06:22:25.337129Z",
          "shell.execute_reply.started": "2022-07-21T06:22:25.327704Z",
          "shell.execute_reply": "2022-07-21T06:22:25.336174Z"
        },
        "trusted": true,
        "colab": {
          "base_uri": "https://localhost:8080/",
          "height": 36
        },
        "id": "OQ8te2zQAdO-",
        "outputId": "f3c7766a-f20b-4e3e-b43b-a58489033c55"
      },
      "execution_count": 170,
      "outputs": [
        {
          "output_type": "execute_result",
          "data": {
            "text/plain": [
              "'./sessions_by_day'"
            ],
            "application/vnd.google.colaboratory.intrinsic+json": {
              "type": "string"
            }
          },
          "metadata": {},
          "execution_count": 170
        }
      ]
    },
    {
      "cell_type": "code",
      "source": [
        "%%time\n",
        "# start_time_window_index = 1\n",
        "# final_time_window_index = 4\n",
        "# for time_index in range(start_time_window_index, final_time_window_index):\n",
        "#     # Set data \n",
        "#     time_index_train = time_index\n",
        "#     time_index_eval = time_index + 1\n",
        "train_paths = glob.glob(os.path.join(OUTPUT_DIR, f\"*/train.parquet\"))\n",
        "eval_paths = glob.glob(os.path.join(OUTPUT_DIR, f\"*/valid.parquet\"))\n",
        "# Train on day related to time_index \n",
        "print('*'*20)\n",
        "# print(\"Launch training for day %s are:\" %time_index)\n",
        "print('*'*20 + '\\n')\n",
        "trainer.train_dataset_or_path = train_paths\n",
        "trainer.reset_lr_scheduler()\n",
        "trainer.train()\n",
        "trainer.state.global_step +=1\n",
        "# Evaluate on the following day\n",
        "trainer.eval_dataset_or_path = eval_paths\n",
        "train_metrics = trainer.evaluate(metric_key_prefix='eval')\n",
        "print('*'*20)\n",
        "# print(\"Eval results for day %s are:\\t\" %time_index_eval)\n",
        "print('\\n' + '*'*20 + '\\n')\n",
        "for key in sorted(train_metrics.keys()):\n",
        "    print(\" %s = %s\" % (key, str(train_metrics[key]))) \n",
        "wipe_memory()"
      ],
      "metadata": {
        "execution": {
          "iopub.status.busy": "2022-07-21T06:22:26.226616Z",
          "iopub.execute_input": "2022-07-21T06:22:26.226958Z",
          "iopub.status.idle": "2022-07-21T07:38:43.074658Z",
          "shell.execute_reply.started": "2022-07-21T06:22:26.226929Z",
          "shell.execute_reply": "2022-07-21T07:38:43.072481Z"
        },
        "trusted": true,
        "colab": {
          "base_uri": "https://localhost:8080/",
          "height": 678
        },
        "id": "Soiv_2meAdO-",
        "outputId": "09f7e304-4778-41cb-8090-029ced0f7563"
      },
      "execution_count": 171,
      "outputs": [
        {
          "output_type": "stream",
          "name": "stderr",
          "text": [
            "/usr/local/lib/python3.9/dist-packages/transformers/optimization.py:306: FutureWarning: This implementation of AdamW is deprecated and will be removed in a future version. Use the PyTorch implementation torch.optim.AdamW instead, or set `no_deprecation_warning=True` to disable this warning\n",
            "  warnings.warn(\n",
            "***** Running training *****\n",
            "  Num examples = 82500\n",
            "  Num Epochs = 1000\n",
            "  Instantaneous batch size per device = 2500\n",
            "  Total train batch size (w. parallel, distributed & accumulation) = 25000\n",
            "  Gradient Accumulation steps = 10\n",
            "  Total optimization steps = 3000\n"
          ]
        },
        {
          "output_type": "stream",
          "name": "stdout",
          "text": [
            "********************\n",
            "********************\n",
            "\n"
          ]
        },
        {
          "output_type": "error",
          "ename": "ValueError",
          "evalue": "ignored",
          "traceback": [
            "\u001b[0;31m---------------------------------------------------------------------------\u001b[0m",
            "\u001b[0;31mValueError\u001b[0m                                Traceback (most recent call last)",
            "\u001b[0;32m<timed exec>\u001b[0m in \u001b[0;36m<module>\u001b[0;34m\u001b[0m\n",
            "\u001b[0;32m/usr/local/lib/python3.9/dist-packages/transformers/trainer.py\u001b[0m in \u001b[0;36mtrain\u001b[0;34m(self, resume_from_checkpoint, trial, ignore_keys_for_eval, **kwargs)\u001b[0m\n\u001b[1;32m   1394\u001b[0m \u001b[0;34m\u001b[0m\u001b[0m\n\u001b[1;32m   1395\u001b[0m             \u001b[0mstep\u001b[0m \u001b[0;34m=\u001b[0m \u001b[0;34m-\u001b[0m\u001b[0;36m1\u001b[0m\u001b[0;34m\u001b[0m\u001b[0;34m\u001b[0m\u001b[0m\n\u001b[0;32m-> 1396\u001b[0;31m             \u001b[0;32mfor\u001b[0m \u001b[0mstep\u001b[0m\u001b[0;34m,\u001b[0m \u001b[0minputs\u001b[0m \u001b[0;32min\u001b[0m \u001b[0menumerate\u001b[0m\u001b[0;34m(\u001b[0m\u001b[0mepoch_iterator\u001b[0m\u001b[0;34m)\u001b[0m\u001b[0;34m:\u001b[0m\u001b[0;34m\u001b[0m\u001b[0;34m\u001b[0m\u001b[0m\n\u001b[0m\u001b[1;32m   1397\u001b[0m \u001b[0;34m\u001b[0m\u001b[0m\n\u001b[1;32m   1398\u001b[0m                 \u001b[0;31m# Skip past any already trained steps if resuming training\u001b[0m\u001b[0;34m\u001b[0m\u001b[0;34m\u001b[0m\u001b[0m\n",
            "\u001b[0;32m/usr/local/lib/python3.9/dist-packages/torch/utils/data/dataloader.py\u001b[0m in \u001b[0;36m__next__\u001b[0;34m(self)\u001b[0m\n\u001b[1;32m    626\u001b[0m                 \u001b[0;31m# TODO(https://github.com/pytorch/pytorch/issues/76750)\u001b[0m\u001b[0;34m\u001b[0m\u001b[0;34m\u001b[0m\u001b[0m\n\u001b[1;32m    627\u001b[0m                 \u001b[0mself\u001b[0m\u001b[0;34m.\u001b[0m\u001b[0m_reset\u001b[0m\u001b[0;34m(\u001b[0m\u001b[0;34m)\u001b[0m  \u001b[0;31m# type: ignore[call-arg]\u001b[0m\u001b[0;34m\u001b[0m\u001b[0;34m\u001b[0m\u001b[0m\n\u001b[0;32m--> 628\u001b[0;31m             \u001b[0mdata\u001b[0m \u001b[0;34m=\u001b[0m \u001b[0mself\u001b[0m\u001b[0;34m.\u001b[0m\u001b[0m_next_data\u001b[0m\u001b[0;34m(\u001b[0m\u001b[0;34m)\u001b[0m\u001b[0;34m\u001b[0m\u001b[0;34m\u001b[0m\u001b[0m\n\u001b[0m\u001b[1;32m    629\u001b[0m             \u001b[0mself\u001b[0m\u001b[0;34m.\u001b[0m\u001b[0m_num_yielded\u001b[0m \u001b[0;34m+=\u001b[0m \u001b[0;36m1\u001b[0m\u001b[0;34m\u001b[0m\u001b[0;34m\u001b[0m\u001b[0m\n\u001b[1;32m    630\u001b[0m             \u001b[0;32mif\u001b[0m \u001b[0mself\u001b[0m\u001b[0;34m.\u001b[0m\u001b[0m_dataset_kind\u001b[0m \u001b[0;34m==\u001b[0m \u001b[0m_DatasetKind\u001b[0m\u001b[0;34m.\u001b[0m\u001b[0mIterable\u001b[0m \u001b[0;32mand\u001b[0m\u001b[0;31m \u001b[0m\u001b[0;31m\\\u001b[0m\u001b[0;34m\u001b[0m\u001b[0;34m\u001b[0m\u001b[0m\n",
            "\u001b[0;32m/usr/local/lib/python3.9/dist-packages/torch/utils/data/dataloader.py\u001b[0m in \u001b[0;36m_next_data\u001b[0;34m(self)\u001b[0m\n\u001b[1;32m    669\u001b[0m     \u001b[0;32mdef\u001b[0m \u001b[0m_next_data\u001b[0m\u001b[0;34m(\u001b[0m\u001b[0mself\u001b[0m\u001b[0;34m)\u001b[0m\u001b[0;34m:\u001b[0m\u001b[0;34m\u001b[0m\u001b[0;34m\u001b[0m\u001b[0m\n\u001b[1;32m    670\u001b[0m         \u001b[0mindex\u001b[0m \u001b[0;34m=\u001b[0m \u001b[0mself\u001b[0m\u001b[0;34m.\u001b[0m\u001b[0m_next_index\u001b[0m\u001b[0;34m(\u001b[0m\u001b[0;34m)\u001b[0m  \u001b[0;31m# may raise StopIteration\u001b[0m\u001b[0;34m\u001b[0m\u001b[0;34m\u001b[0m\u001b[0m\n\u001b[0;32m--> 671\u001b[0;31m         \u001b[0mdata\u001b[0m \u001b[0;34m=\u001b[0m \u001b[0mself\u001b[0m\u001b[0;34m.\u001b[0m\u001b[0m_dataset_fetcher\u001b[0m\u001b[0;34m.\u001b[0m\u001b[0mfetch\u001b[0m\u001b[0;34m(\u001b[0m\u001b[0mindex\u001b[0m\u001b[0;34m)\u001b[0m  \u001b[0;31m# may raise StopIteration\u001b[0m\u001b[0;34m\u001b[0m\u001b[0;34m\u001b[0m\u001b[0m\n\u001b[0m\u001b[1;32m    672\u001b[0m         \u001b[0;32mif\u001b[0m \u001b[0mself\u001b[0m\u001b[0;34m.\u001b[0m\u001b[0m_pin_memory\u001b[0m\u001b[0;34m:\u001b[0m\u001b[0;34m\u001b[0m\u001b[0;34m\u001b[0m\u001b[0m\n\u001b[1;32m    673\u001b[0m             \u001b[0mdata\u001b[0m \u001b[0;34m=\u001b[0m \u001b[0m_utils\u001b[0m\u001b[0;34m.\u001b[0m\u001b[0mpin_memory\u001b[0m\u001b[0;34m.\u001b[0m\u001b[0mpin_memory\u001b[0m\u001b[0;34m(\u001b[0m\u001b[0mdata\u001b[0m\u001b[0;34m,\u001b[0m \u001b[0mself\u001b[0m\u001b[0;34m.\u001b[0m\u001b[0m_pin_memory_device\u001b[0m\u001b[0;34m)\u001b[0m\u001b[0;34m\u001b[0m\u001b[0;34m\u001b[0m\u001b[0m\n",
            "\u001b[0;32m/usr/local/lib/python3.9/dist-packages/torch/utils/data/_utils/fetch.py\u001b[0m in \u001b[0;36mfetch\u001b[0;34m(self, possibly_batched_index)\u001b[0m\n\u001b[1;32m     32\u001b[0m             \u001b[0;32mfor\u001b[0m \u001b[0m_\u001b[0m \u001b[0;32min\u001b[0m \u001b[0mpossibly_batched_index\u001b[0m\u001b[0;34m:\u001b[0m\u001b[0;34m\u001b[0m\u001b[0;34m\u001b[0m\u001b[0m\n\u001b[1;32m     33\u001b[0m                 \u001b[0;32mtry\u001b[0m\u001b[0;34m:\u001b[0m\u001b[0;34m\u001b[0m\u001b[0;34m\u001b[0m\u001b[0m\n\u001b[0;32m---> 34\u001b[0;31m                     \u001b[0mdata\u001b[0m\u001b[0;34m.\u001b[0m\u001b[0mappend\u001b[0m\u001b[0;34m(\u001b[0m\u001b[0mnext\u001b[0m\u001b[0;34m(\u001b[0m\u001b[0mself\u001b[0m\u001b[0;34m.\u001b[0m\u001b[0mdataset_iter\u001b[0m\u001b[0;34m)\u001b[0m\u001b[0;34m)\u001b[0m\u001b[0;34m\u001b[0m\u001b[0;34m\u001b[0m\u001b[0m\n\u001b[0m\u001b[1;32m     35\u001b[0m                 \u001b[0;32mexcept\u001b[0m \u001b[0mStopIteration\u001b[0m\u001b[0;34m:\u001b[0m\u001b[0;34m\u001b[0m\u001b[0;34m\u001b[0m\u001b[0m\n\u001b[1;32m     36\u001b[0m                     \u001b[0mself\u001b[0m\u001b[0;34m.\u001b[0m\u001b[0mended\u001b[0m \u001b[0;34m=\u001b[0m \u001b[0;32mTrue\u001b[0m\u001b[0;34m\u001b[0m\u001b[0;34m\u001b[0m\u001b[0m\n",
            "\u001b[0;32m/usr/local/lib/python3.9/dist-packages/merlin/dataloader/loader_base.py\u001b[0m in \u001b[0;36m__next__\u001b[0;34m(self)\u001b[0m\n\u001b[1;32m    249\u001b[0m     \u001b[0;32mdef\u001b[0m \u001b[0m__next__\u001b[0m\u001b[0;34m(\u001b[0m\u001b[0mself\u001b[0m\u001b[0;34m)\u001b[0m\u001b[0;34m:\u001b[0m\u001b[0;34m\u001b[0m\u001b[0;34m\u001b[0m\u001b[0m\n\u001b[1;32m    250\u001b[0m         \u001b[0;34m\"\"\"Get the next batch.\"\"\"\u001b[0m\u001b[0;34m\u001b[0m\u001b[0;34m\u001b[0m\u001b[0m\n\u001b[0;32m--> 251\u001b[0;31m         \u001b[0;32mreturn\u001b[0m \u001b[0mself\u001b[0m\u001b[0;34m.\u001b[0m\u001b[0m_get_next_batch\u001b[0m\u001b[0;34m(\u001b[0m\u001b[0;34m)\u001b[0m\u001b[0;34m\u001b[0m\u001b[0;34m\u001b[0m\u001b[0m\n\u001b[0m\u001b[1;32m    252\u001b[0m \u001b[0;34m\u001b[0m\u001b[0m\n\u001b[1;32m    253\u001b[0m     \u001b[0;32mdef\u001b[0m \u001b[0mpeek\u001b[0m\u001b[0;34m(\u001b[0m\u001b[0mself\u001b[0m\u001b[0;34m)\u001b[0m\u001b[0;34m:\u001b[0m\u001b[0;34m\u001b[0m\u001b[0;34m\u001b[0m\u001b[0m\n",
            "\u001b[0;32m/usr/local/lib/python3.9/dist-packages/merlin/dataloader/loader_base.py\u001b[0m in \u001b[0;36m_get_next_batch\u001b[0;34m(self)\u001b[0m\n\u001b[1;32m    320\u001b[0m         \u001b[0;31m# try to iterate through existing batches\u001b[0m\u001b[0;34m\u001b[0m\u001b[0;34m\u001b[0m\u001b[0m\n\u001b[1;32m    321\u001b[0m         \u001b[0;32mtry\u001b[0m\u001b[0;34m:\u001b[0m\u001b[0;34m\u001b[0m\u001b[0;34m\u001b[0m\u001b[0m\n\u001b[0;32m--> 322\u001b[0;31m             \u001b[0mbatch\u001b[0m \u001b[0;34m=\u001b[0m \u001b[0mnext\u001b[0m\u001b[0;34m(\u001b[0m\u001b[0mself\u001b[0m\u001b[0;34m.\u001b[0m\u001b[0m_batch_itr\u001b[0m\u001b[0;34m)\u001b[0m\u001b[0;34m\u001b[0m\u001b[0;34m\u001b[0m\u001b[0m\n\u001b[0m\u001b[1;32m    323\u001b[0m         \u001b[0;32mexcept\u001b[0m \u001b[0mStopIteration\u001b[0m\u001b[0;34m:\u001b[0m\u001b[0;34m\u001b[0m\u001b[0;34m\u001b[0m\u001b[0m\n\u001b[1;32m    324\u001b[0m             \u001b[0;31m# anticipate any more chunks getting created\u001b[0m\u001b[0;34m\u001b[0m\u001b[0;34m\u001b[0m\u001b[0m\n",
            "\u001b[0;32m/usr/local/lib/python3.9/dist-packages/merlin/dataloader/loader_base.py\u001b[0m in \u001b[0;36mmake_tensors\u001b[0;34m(self, gdf, use_row_lengths)\u001b[0m\n\u001b[1;32m    360\u001b[0m \u001b[0;34m\u001b[0m\u001b[0m\n\u001b[1;32m    361\u001b[0m         \u001b[0;31m# convert dataframe to framework-specific tensors\u001b[0m\u001b[0;34m\u001b[0m\u001b[0;34m\u001b[0m\u001b[0m\n\u001b[0;32m--> 362\u001b[0;31m         \u001b[0mtensors_by_name\u001b[0m \u001b[0;34m=\u001b[0m \u001b[0mself\u001b[0m\u001b[0;34m.\u001b[0m\u001b[0m_process_dataframe\u001b[0m\u001b[0;34m(\u001b[0m\u001b[0mgdf\u001b[0m\u001b[0;34m)\u001b[0m\u001b[0;34m\u001b[0m\u001b[0;34m\u001b[0m\u001b[0m\n\u001b[0m\u001b[1;32m    363\u001b[0m \u001b[0;34m\u001b[0m\u001b[0m\n\u001b[1;32m    364\u001b[0m         \u001b[0;31m# split them into batches and map to the framework-specific output format\u001b[0m\u001b[0;34m\u001b[0m\u001b[0;34m\u001b[0m\u001b[0m\n",
            "\u001b[0;32m/usr/local/lib/python3.9/dist-packages/nvtx/nvtx.py\u001b[0m in \u001b[0;36minner\u001b[0;34m(*args, **kwargs)\u001b[0m\n\u001b[1;32m     99\u001b[0m         \u001b[0;32mdef\u001b[0m \u001b[0minner\u001b[0m\u001b[0;34m(\u001b[0m\u001b[0;34m*\u001b[0m\u001b[0margs\u001b[0m\u001b[0;34m,\u001b[0m \u001b[0;34m**\u001b[0m\u001b[0mkwargs\u001b[0m\u001b[0;34m)\u001b[0m\u001b[0;34m:\u001b[0m\u001b[0;34m\u001b[0m\u001b[0;34m\u001b[0m\u001b[0m\n\u001b[1;32m    100\u001b[0m             \u001b[0mlibnvtx_push_range\u001b[0m\u001b[0;34m(\u001b[0m\u001b[0mself\u001b[0m\u001b[0;34m.\u001b[0m\u001b[0mattributes\u001b[0m\u001b[0;34m,\u001b[0m \u001b[0mself\u001b[0m\u001b[0;34m.\u001b[0m\u001b[0mdomain\u001b[0m\u001b[0;34m.\u001b[0m\u001b[0mhandle\u001b[0m\u001b[0;34m)\u001b[0m\u001b[0;34m\u001b[0m\u001b[0;34m\u001b[0m\u001b[0m\n\u001b[0;32m--> 101\u001b[0;31m             \u001b[0mresult\u001b[0m \u001b[0;34m=\u001b[0m \u001b[0mfunc\u001b[0m\u001b[0;34m(\u001b[0m\u001b[0;34m*\u001b[0m\u001b[0margs\u001b[0m\u001b[0;34m,\u001b[0m \u001b[0;34m**\u001b[0m\u001b[0mkwargs\u001b[0m\u001b[0;34m)\u001b[0m\u001b[0;34m\u001b[0m\u001b[0;34m\u001b[0m\u001b[0m\n\u001b[0m\u001b[1;32m    102\u001b[0m             \u001b[0mlibnvtx_pop_range\u001b[0m\u001b[0;34m(\u001b[0m\u001b[0mself\u001b[0m\u001b[0;34m.\u001b[0m\u001b[0mdomain\u001b[0m\u001b[0;34m.\u001b[0m\u001b[0mhandle\u001b[0m\u001b[0;34m)\u001b[0m\u001b[0;34m\u001b[0m\u001b[0;34m\u001b[0m\u001b[0m\n\u001b[1;32m    103\u001b[0m             \u001b[0;32mreturn\u001b[0m \u001b[0mresult\u001b[0m\u001b[0;34m\u001b[0m\u001b[0;34m\u001b[0m\u001b[0m\n",
            "\u001b[0;32m/usr/local/lib/python3.9/dist-packages/merlin/dataloader/loader_base.py\u001b[0m in \u001b[0;36m_process_dataframe\u001b[0;34m(self, gdf)\u001b[0m\n\u001b[1;32m    490\u001b[0m                         \u001b[0mcol_offsets\u001b[0m \u001b[0;34m=\u001b[0m \u001b[0mnest_offsets\u001b[0m\u001b[0;34m.\u001b[0m\u001b[0miloc\u001b[0m\u001b[0;34m[\u001b[0m\u001b[0mcol_offsets\u001b[0m\u001b[0;34m[\u001b[0m\u001b[0;34m:\u001b[0m\u001b[0;34m]\u001b[0m\u001b[0;34m]\u001b[0m\u001b[0;34m\u001b[0m\u001b[0;34m\u001b[0m\u001b[0m\n\u001b[1;32m    491\u001b[0m \u001b[0;34m\u001b[0m\u001b[0m\n\u001b[0;32m--> 492\u001b[0;31m                     tensors_by_name[column_name] = self._to_tensor(leaves), self._to_tensor(\n\u001b[0m\u001b[1;32m    493\u001b[0m                         \u001b[0mcol_offsets\u001b[0m\u001b[0;34m\u001b[0m\u001b[0;34m\u001b[0m\u001b[0m\n\u001b[1;32m    494\u001b[0m                     )\n",
            "\u001b[0;32m/usr/local/lib/python3.9/dist-packages/merlin/dataloader/torch.py\u001b[0m in \u001b[0;36m_to_tensor\u001b[0;34m(self, gdf)\u001b[0m\n\u001b[1;32m    126\u001b[0m \u001b[0;34m\u001b[0m\u001b[0m\n\u001b[1;32m    127\u001b[0m     \u001b[0;32mdef\u001b[0m \u001b[0m_to_tensor\u001b[0m\u001b[0;34m(\u001b[0m\u001b[0mself\u001b[0m\u001b[0;34m,\u001b[0m \u001b[0mgdf\u001b[0m\u001b[0;34m)\u001b[0m\u001b[0;34m:\u001b[0m\u001b[0;34m\u001b[0m\u001b[0;34m\u001b[0m\u001b[0m\n\u001b[0;32m--> 128\u001b[0;31m         \u001b[0;32mreturn\u001b[0m \u001b[0mself\u001b[0m\u001b[0;34m.\u001b[0m\u001b[0m_unpack\u001b[0m\u001b[0;34m(\u001b[0m\u001b[0mself\u001b[0m\u001b[0;34m.\u001b[0m\u001b[0m_pack\u001b[0m\u001b[0;34m(\u001b[0m\u001b[0mgdf\u001b[0m\u001b[0;34m)\u001b[0m\u001b[0;34m)\u001b[0m\u001b[0;34m\u001b[0m\u001b[0;34m\u001b[0m\u001b[0m\n\u001b[0m\u001b[1;32m    129\u001b[0m \u001b[0;34m\u001b[0m\u001b[0m\n\u001b[1;32m    130\u001b[0m     \u001b[0;32mdef\u001b[0m \u001b[0m_split_fn\u001b[0m\u001b[0;34m(\u001b[0m\u001b[0mself\u001b[0m\u001b[0;34m,\u001b[0m \u001b[0mtensor\u001b[0m\u001b[0;34m,\u001b[0m \u001b[0midx\u001b[0m\u001b[0;34m,\u001b[0m \u001b[0maxis\u001b[0m\u001b[0;34m=\u001b[0m\u001b[0;36m0\u001b[0m\u001b[0;34m)\u001b[0m\u001b[0;34m:\u001b[0m\u001b[0;34m\u001b[0m\u001b[0;34m\u001b[0m\u001b[0m\n",
            "\u001b[0;32m/usr/local/lib/python3.9/dist-packages/merlin/dataloader/loader_base.py\u001b[0m in \u001b[0;36m_pack\u001b[0;34m(self, gdf)\u001b[0m\n\u001b[1;32m    539\u001b[0m         \u001b[0;31m# if self.device has value ('cpu') gdf should not be transferred to dlpack\u001b[0m\u001b[0;34m\u001b[0m\u001b[0;34m\u001b[0m\u001b[0m\n\u001b[1;32m    540\u001b[0m         \u001b[0;32melif\u001b[0m \u001b[0mhasattr\u001b[0m\u001b[0;34m(\u001b[0m\u001b[0mgdf\u001b[0m\u001b[0;34m,\u001b[0m \u001b[0;34m\"to_dlpack\"\u001b[0m\u001b[0;34m)\u001b[0m \u001b[0;32mand\u001b[0m \u001b[0mcallable\u001b[0m\u001b[0;34m(\u001b[0m\u001b[0mgetattr\u001b[0m\u001b[0;34m(\u001b[0m\u001b[0mgdf\u001b[0m\u001b[0;34m,\u001b[0m \u001b[0;34m\"to_dlpack\"\u001b[0m\u001b[0;34m)\u001b[0m\u001b[0;34m)\u001b[0m \u001b[0;32mand\u001b[0m \u001b[0;32mnot\u001b[0m \u001b[0mself\u001b[0m\u001b[0;34m.\u001b[0m\u001b[0mdevice\u001b[0m\u001b[0;34m:\u001b[0m\u001b[0;34m\u001b[0m\u001b[0;34m\u001b[0m\u001b[0m\n\u001b[0;32m--> 541\u001b[0;31m             \u001b[0;32mreturn\u001b[0m \u001b[0mgdf\u001b[0m\u001b[0;34m.\u001b[0m\u001b[0mto_dlpack\u001b[0m\u001b[0;34m(\u001b[0m\u001b[0;34m)\u001b[0m\u001b[0;34m\u001b[0m\u001b[0;34m\u001b[0m\u001b[0m\n\u001b[0m\u001b[1;32m    542\u001b[0m         \u001b[0;32melif\u001b[0m \u001b[0mhasattr\u001b[0m\u001b[0;34m(\u001b[0m\u001b[0mgdf\u001b[0m\u001b[0;34m,\u001b[0m \u001b[0;34m\"to_numpy\"\u001b[0m\u001b[0;34m)\u001b[0m \u001b[0;32mand\u001b[0m \u001b[0mcallable\u001b[0m\u001b[0;34m(\u001b[0m\u001b[0mgetattr\u001b[0m\u001b[0;34m(\u001b[0m\u001b[0mgdf\u001b[0m\u001b[0;34m,\u001b[0m \u001b[0;34m\"to_numpy\"\u001b[0m\u001b[0;34m)\u001b[0m\u001b[0;34m)\u001b[0m\u001b[0;34m:\u001b[0m\u001b[0;34m\u001b[0m\u001b[0;34m\u001b[0m\u001b[0m\n\u001b[1;32m    543\u001b[0m             \u001b[0mgdf\u001b[0m \u001b[0;34m=\u001b[0m \u001b[0mgdf\u001b[0m\u001b[0;34m.\u001b[0m\u001b[0mto_numpy\u001b[0m\u001b[0;34m(\u001b[0m\u001b[0;34m)\u001b[0m\u001b[0;34m\u001b[0m\u001b[0;34m\u001b[0m\u001b[0m\n",
            "\u001b[0;32m/usr/local/lib/python3.9/dist-packages/nvtx/nvtx.py\u001b[0m in \u001b[0;36minner\u001b[0;34m(*args, **kwargs)\u001b[0m\n\u001b[1;32m     99\u001b[0m         \u001b[0;32mdef\u001b[0m \u001b[0minner\u001b[0m\u001b[0;34m(\u001b[0m\u001b[0;34m*\u001b[0m\u001b[0margs\u001b[0m\u001b[0;34m,\u001b[0m \u001b[0;34m**\u001b[0m\u001b[0mkwargs\u001b[0m\u001b[0;34m)\u001b[0m\u001b[0;34m:\u001b[0m\u001b[0;34m\u001b[0m\u001b[0;34m\u001b[0m\u001b[0m\n\u001b[1;32m    100\u001b[0m             \u001b[0mlibnvtx_push_range\u001b[0m\u001b[0;34m(\u001b[0m\u001b[0mself\u001b[0m\u001b[0;34m.\u001b[0m\u001b[0mattributes\u001b[0m\u001b[0;34m,\u001b[0m \u001b[0mself\u001b[0m\u001b[0;34m.\u001b[0m\u001b[0mdomain\u001b[0m\u001b[0;34m.\u001b[0m\u001b[0mhandle\u001b[0m\u001b[0;34m)\u001b[0m\u001b[0;34m\u001b[0m\u001b[0;34m\u001b[0m\u001b[0m\n\u001b[0;32m--> 101\u001b[0;31m             \u001b[0mresult\u001b[0m \u001b[0;34m=\u001b[0m \u001b[0mfunc\u001b[0m\u001b[0;34m(\u001b[0m\u001b[0;34m*\u001b[0m\u001b[0margs\u001b[0m\u001b[0;34m,\u001b[0m \u001b[0;34m**\u001b[0m\u001b[0mkwargs\u001b[0m\u001b[0;34m)\u001b[0m\u001b[0;34m\u001b[0m\u001b[0;34m\u001b[0m\u001b[0m\n\u001b[0m\u001b[1;32m    102\u001b[0m             \u001b[0mlibnvtx_pop_range\u001b[0m\u001b[0;34m(\u001b[0m\u001b[0mself\u001b[0m\u001b[0;34m.\u001b[0m\u001b[0mdomain\u001b[0m\u001b[0;34m.\u001b[0m\u001b[0mhandle\u001b[0m\u001b[0;34m)\u001b[0m\u001b[0;34m\u001b[0m\u001b[0;34m\u001b[0m\u001b[0m\n\u001b[1;32m    103\u001b[0m             \u001b[0;32mreturn\u001b[0m \u001b[0mresult\u001b[0m\u001b[0;34m\u001b[0m\u001b[0;34m\u001b[0m\u001b[0m\n",
            "\u001b[0;32m/usr/local/lib/python3.9/dist-packages/cudf/core/frame.py\u001b[0m in \u001b[0;36mto_dlpack\u001b[0;34m(self)\u001b[0m\n\u001b[1;32m   2553\u001b[0m         \u001b[0;34m\"\"\"{docstring}\"\"\"\u001b[0m\u001b[0;34m\u001b[0m\u001b[0;34m\u001b[0m\u001b[0m\n\u001b[1;32m   2554\u001b[0m \u001b[0;34m\u001b[0m\u001b[0m\n\u001b[0;32m-> 2555\u001b[0;31m         \u001b[0;32mreturn\u001b[0m \u001b[0mcudf\u001b[0m\u001b[0;34m.\u001b[0m\u001b[0mio\u001b[0m\u001b[0;34m.\u001b[0m\u001b[0mdlpack\u001b[0m\u001b[0;34m.\u001b[0m\u001b[0mto_dlpack\u001b[0m\u001b[0;34m(\u001b[0m\u001b[0mself\u001b[0m\u001b[0;34m)\u001b[0m\u001b[0;34m\u001b[0m\u001b[0;34m\u001b[0m\u001b[0m\n\u001b[0m\u001b[1;32m   2556\u001b[0m \u001b[0;34m\u001b[0m\u001b[0m\n\u001b[1;32m   2557\u001b[0m     \u001b[0;34m@\u001b[0m\u001b[0m_cudf_nvtx_annotate\u001b[0m\u001b[0;34m\u001b[0m\u001b[0;34m\u001b[0m\u001b[0m\n",
            "\u001b[0;32m/usr/local/lib/python3.9/dist-packages/cudf/io/dlpack.py\u001b[0m in \u001b[0;36mto_dlpack\u001b[0;34m(cudf_obj)\u001b[0m\n\u001b[1;32m     90\u001b[0m     \u001b[0mgdf\u001b[0m \u001b[0;34m=\u001b[0m \u001b[0mgdf\u001b[0m\u001b[0;34m.\u001b[0m\u001b[0mastype\u001b[0m\u001b[0;34m(\u001b[0m\u001b[0mdtype\u001b[0m\u001b[0;34m)\u001b[0m\u001b[0;34m\u001b[0m\u001b[0;34m\u001b[0m\u001b[0m\n\u001b[1;32m     91\u001b[0m \u001b[0;34m\u001b[0m\u001b[0m\n\u001b[0;32m---> 92\u001b[0;31m     \u001b[0;32mreturn\u001b[0m \u001b[0mlibdlpack\u001b[0m\u001b[0;34m.\u001b[0m\u001b[0mto_dlpack\u001b[0m\u001b[0;34m(\u001b[0m\u001b[0;34m[\u001b[0m\u001b[0;34m*\u001b[0m\u001b[0mgdf\u001b[0m\u001b[0;34m.\u001b[0m\u001b[0m_columns\u001b[0m\u001b[0;34m]\u001b[0m\u001b[0;34m)\u001b[0m\u001b[0;34m\u001b[0m\u001b[0;34m\u001b[0m\u001b[0m\n\u001b[0m",
            "\u001b[0;32minterop.pyx\u001b[0m in \u001b[0;36mcudf._lib.interop.to_dlpack\u001b[0;34m()\u001b[0m\n",
            "\u001b[0;31mValueError\u001b[0m: Cannot create a DLPack tensor with null values.                 Input is required to have null count as zero."
          ]
        }
      ]
    },
    {
      "cell_type": "code",
      "source": [
        "trainer._save_model_and_checkpoint(save_model_class=True)"
      ],
      "metadata": {
        "execution": {
          "iopub.status.busy": "2022-07-21T07:38:43.084356Z",
          "iopub.execute_input": "2022-07-21T07:38:43.084627Z",
          "iopub.status.idle": "2022-07-21T07:38:43.706083Z",
          "shell.execute_reply.started": "2022-07-21T07:38:43.084603Z",
          "shell.execute_reply": "2022-07-21T07:38:43.7035Z"
        },
        "trusted": true,
        "id": "yakgGBAMAdO-"
      },
      "execution_count": null,
      "outputs": []
    },
    {
      "cell_type": "code",
      "source": [
        "dataloader = trainer.get_eval_dataloader()"
      ],
      "metadata": {
        "execution": {
          "iopub.status.busy": "2022-07-21T06:22:06.572329Z",
          "iopub.status.idle": "2022-07-21T06:22:06.572722Z",
          "shell.execute_reply.started": "2022-07-21T06:22:06.57253Z",
          "shell.execute_reply": "2022-07-21T06:22:06.572547Z"
        },
        "trusted": true,
        "id": "f-0jEjrdAdO-"
      },
      "execution_count": null,
      "outputs": []
    },
    {
      "cell_type": "code",
      "source": [
        "for b in dataloader:\n",
        "    print(model(b)['predictions'].size())\n",
        "    break"
      ],
      "metadata": {
        "execution": {
          "iopub.status.busy": "2022-07-21T06:22:06.581327Z",
          "iopub.status.idle": "2022-07-21T06:22:06.582456Z",
          "shell.execute_reply.started": "2022-07-21T06:22:06.582277Z",
          "shell.execute_reply": "2022-07-21T06:22:06.582298Z"
        },
        "trusted": true,
        "id": "kSoL75LSAdO-"
      },
      "execution_count": null,
      "outputs": []
    },
    {
      "cell_type": "code",
      "source": [],
      "metadata": {
        "id": "TlN_7C7EAdO-"
      },
      "execution_count": null,
      "outputs": []
    }
  ]
}